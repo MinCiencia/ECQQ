{
 "cells": [
  {
   "cell_type": "code",
   "execution_count": 139,
   "id": "sixth-malta",
   "metadata": {},
   "outputs": [],
   "source": [
    "import csv\n",
    "import re\n",
    "\n",
    "regionesDict = {\n",
    "    \"Región del Maule\" : \"Maule\",\n",
    "    \"Región Metropolitana de Santiago\" : \"RM\",\n",
    "    \"Región de Los Ríos\" : \"Los Ríos\",\n",
    "    \"Región de Valparaíso\" : \"Valparaíso\",\n",
    "    \"Región de Los Lagos\" : \"Los Lagos\",\n",
    "    \"Región de Tarapacá\" : \"Tarapacá\",\n",
    "    \"Región de La Araucanía\" : \"Araucanía\",\n",
    "    \"Región del Libertador General Bernardo O’Higgins\": \"O’Higgins\",\n",
    "    \"Región de Ñuble\" : \"Ñuble\",\n",
    "    \"Región Aysén del General Carlos Ibáñez del Campo\" : \"Aysén\",\n",
    "    \"Región de Coquimbo\" : \"Coquimbo\",\n",
    "    \"Región del Biobío\" : \"Biobío\",\n",
    "    \"Región de Arica y Parinacota\" : \"Arica y Parinacota\",\n",
    "    \"Región de Atacama\" : \"Atacama\",\n",
    "    \"Región de Antofagasta\" : \"Antofagasta\",\n",
    "    \"Región de Magallanes y Antártica Chilena\" : \"Magallanes\",   \n",
    "}\n",
    "\n",
    "educacionDict = {\n",
    "    \"Post Grado (Master, Doctor o equivalente)\" : \"Post Grado\",\n",
    "    \"Universitaria completa.\" : \"Universitaria completa\", \n",
    "    \"Universitaria incompleta. Técnica completa.\" : \"Técnica completa\",\n",
    "    \"Media completa. Técnica incompleta.\" : \"Técnica incompleta\",\n",
    "    \"Media incompleta (incluyendo Media Técnica).\" : \"Media incompleta\",\n",
    "    \"Educación básica incompleta o inferior.\" : \"Básica incompleta\",\n",
    "    \"Básica completa.\" : \"Básica completa\", \n",
    "}\n",
    "\n",
    "columnas = [\"Edad\", \"Region\", \"Nivel Educacion\", \"Rango Edad\"]\n",
    "\n",
    "rangos = [15,20,25,30,35,40,45,50,55,60,65,70,75,80,85,90]\n",
    "\n",
    "input_file = 'edad_region_educacion.csv'\n",
    "output_file = 'edad_region_educacion_abreviado.csv'\n",
    "output_rangos = 'edad_region_educacion_rango_abreviado.csv'\n"
   ]
  },
  {
   "cell_type": "code",
   "execution_count": 72,
   "id": "grateful-button",
   "metadata": {},
   "outputs": [
    {
     "name": "stdout",
     "output_type": "stream",
     "text": [
      "Edad invalida\n"
     ]
    }
   ],
   "source": [
    "with open(input_file) as csv_file:\n",
    "    csv_reader = csv.DictReader(csv_file, delimiter=',')\n",
    "    new_csv = list()\n",
    "    line_count = 0\n",
    "    for row in csv_reader:\n",
    "        if line_count == 0:\n",
    "            line_count += 1\n",
    "        else:           \n",
    "            try:\n",
    "                edad = int(re.search(r'\\d+',row[columnas[0]]).group())\n",
    "            \n",
    "                region = regionesDict[row[columnas[1]]]\n",
    "                educacion = educacionDict[row[columnas[2]]]\n",
    "\n",
    "                new_csv.append({columnas[0]: edad, columnas[1]: region, columnas[2]: educacion})           \n",
    "                \n",
    "            except:\n",
    "                print(\"Edad invalida\")\n",
    "                \n",
    "            line_count += 1\n",
    "    try:\n",
    "        with open(output_file, 'w') as new_csv_file:\n",
    "            writer = csv.DictWriter(new_csv_file, fieldnames = columnas)\n",
    "            writer.writeheader()\n",
    "            for data in new_csv:\n",
    "                writer.writerow(data)\n",
    "    except IOError:\n",
    "        print(\"I/O error\")"
   ]
  },
  {
   "cell_type": "code",
   "execution_count": 142,
   "id": "designed-ribbon",
   "metadata": {},
   "outputs": [],
   "source": [
    "with open(output_file) as csv_file:\n",
    "    csv_reader = csv.DictReader(csv_file, delimiter=',')\n",
    "    new_csv = list()\n",
    "    line_count = 0\n",
    "    for row in csv_reader:\n",
    "        if line_count == 0:\n",
    "            line_count += 1\n",
    "        else:\n",
    "            edad = int(row[columnas[0]])\n",
    "            region = row[columnas[1]]\n",
    "            educacion = row[columnas[2]]\n",
    "            rango = 0\n",
    "            for index, r in enumerate(rangos):\n",
    "                if edad <= r:\n",
    "                    rango = r\n",
    "                    break\n",
    "\n",
    "            new_csv.append({columnas[0]: edad, columnas[1]: region, columnas[2]: educacion, columnas[3]: rango})   \n",
    "                \n",
    "            line_count += 1\n",
    "    try:\n",
    "        with open(output_rangos, 'w') as new_csv_file:\n",
    "            writer = csv.DictWriter(new_csv_file, fieldnames = columnas)\n",
    "            writer.writeheader()\n",
    "            for data in new_csv:\n",
    "                writer.writerow(data)\n",
    "    except IOError:\n",
    "        print(\"I/O error\")"
   ]
  }
 ],
 "metadata": {
  "kernelspec": {
   "display_name": "Python 3",
   "language": "python",
   "name": "python3"
  },
  "language_info": {
   "codemirror_mode": {
    "name": "ipython",
    "version": 3
   },
   "file_extension": ".py",
   "mimetype": "text/x-python",
   "name": "python",
   "nbconvert_exporter": "python",
   "pygments_lexer": "ipython3",
   "version": "3.8.5"
  }
 },
 "nbformat": 4,
 "nbformat_minor": 5
}
