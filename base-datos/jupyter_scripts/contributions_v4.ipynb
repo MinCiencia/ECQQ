{
 "cells": [
  {
   "cell_type": "code",
   "execution_count": 4,
   "id": "human-camping",
   "metadata": {},
   "outputs": [],
   "source": [
    "import csv\n",
    "import re\n",
    "import string\n",
    "import json\n",
    "\n",
    "import openpyxl\n",
    "\n",
    "input_file = 'contributions_v4.xlsx'\n",
    "output_file = 'contribution_data.sql'\n",
    "\n",
    "values = list()"
   ]
  },
  {
   "cell_type": "code",
   "execution_count": 9,
   "id": "compressed-landing",
   "metadata": {},
   "outputs": [],
   "source": [
    "book = openpyxl.load_workbook(input_file)\n",
    "\n",
    "sheet = book.active\n",
    "\n",
    "values = list()\n",
    "\n",
    "for row in sheet.iter_rows(min_row=2):\n",
    "    con_id = int(row[0].value)\n",
    "    text = str(row[1].value)\n",
    "    token = row[2].value\n",
    "    \n",
    "    if token == None or token == 'NR':\n",
    "        token = '[]'\n",
    "        \n",
    "    label = str(row[3].value)\n",
    "    \n",
    "    macro = str(row[4].value)  \n",
    "            \n",
    "    if macro != None:\n",
    "        if macro == '\\'':\n",
    "            macro = 'NR'\n",
    "        if macro != 'NR':\n",
    "            macro = macro.replace('\\'','')     \n",
    "    \n",
    "    string_value = '''({},\\'{}\\',\\'{}\\',\\'{}\\',\\'{}\\')'''.format(con_id, text.replace('\\'',''), token.replace('\\'','\"').replace(' ',''), label, macro)\n",
    "    values.append(string_value)\n",
    "        \n",
    "with open(output_file, 'w') as new_file:\n",
    "    for index, value in enumerate(values):\n",
    "        if index == 0:\n",
    "            print('INSERT INTO contribution VALUES {},'.format(value), file=new_file)\n",
    "        elif index == len(values) - 1:\n",
    "            print('''{};'''.format(value), file=new_file)\n",
    "        else:\n",
    "            print('{},'.format(value), file=new_file)"
   ]
  },
  {
   "cell_type": "code",
   "execution_count": null,
   "id": "sublime-conditions",
   "metadata": {},
   "outputs": [],
   "source": []
  }
 ],
 "metadata": {
  "kernelspec": {
   "display_name": "Python 3",
   "language": "python",
   "name": "python3"
  },
  "language_info": {
   "codemirror_mode": {
    "name": "ipython",
    "version": 3
   },
   "file_extension": ".py",
   "mimetype": "text/x-python",
   "name": "python",
   "nbconvert_exporter": "python",
   "pygments_lexer": "ipython3",
   "version": "3.8.5"
  }
 },
 "nbformat": 4,
 "nbformat_minor": 5
}
