{
 "cells": [
  {
   "cell_type": "code",
   "execution_count": 29,
   "id": "assigned-eleven",
   "metadata": {},
   "outputs": [],
   "source": [
    "import pandas as pd\n",
    "import geopandas as gpd\n",
    "import string\n",
    "\n",
    "import csv\n",
    "\n",
    "from shapely.geometry.polygon import Polygon\n",
    "from shapely.geometry.multipolygon import MultiPolygon\n",
    "\n",
    "from shapely.ops import cascaded_union"
   ]
  },
  {
   "cell_type": "code",
   "execution_count": 31,
   "id": "given-siemens",
   "metadata": {},
   "outputs": [],
   "source": [
    "regiones_iso = [\n",
    "    'CL-TA', \n",
    "    'CL-AN', \n",
    "    'CL-AT',\n",
    "    'CL-CO',  \n",
    "    'CL-VS',        \n",
    "    'CL-OH', \n",
    "    'CL-MA',\n",
    "    'CL-BI', \n",
    "    'CL-AR', \n",
    "    'CL-LL',\n",
    "    'CL-AI', \n",
    "    'CL-MG',    \n",
    "    'CL-RM', \n",
    "    'CL-LR',  \n",
    "    'CL-AP',   \n",
    "    'CL-NB',\n",
    "]\n",
    "\n",
    "headers = ['id','region_iso','name']"
   ]
  },
  {
   "cell_type": "code",
   "execution_count": 32,
   "id": "announced-microwave",
   "metadata": {},
   "outputs": [],
   "source": [
    "comunas = gpd.GeoDataFrame.from_file('comunas/r_comunas_all.shp')\n",
    "\n",
    "with open('comunas.csv', 'w') as new_csv_file:\n",
    "        writer = csv.DictWriter(new_csv_file, fieldnames = headers)\n",
    "        writer.writeheader()\n",
    "        for index, row in comunas.iterrows():\n",
    "            row = {\n",
    "                'id' : row['COMUNA'],\n",
    "                'region_iso': regiones_iso[int(row['REGION']) - 1],\n",
    "                'name' : string.capwords(row['NOM_COMUNA']),\n",
    "            }\n",
    "            writer.writerow(row)"
   ]
  }
 ],
 "metadata": {
  "kernelspec": {
   "display_name": "Python 3",
   "language": "python",
   "name": "python3"
  },
  "language_info": {
   "codemirror_mode": {
    "name": "ipython",
    "version": 3
   },
   "file_extension": ".py",
   "mimetype": "text/x-python",
   "name": "python",
   "nbconvert_exporter": "python",
   "pygments_lexer": "ipython3",
   "version": "3.8.5"
  }
 },
 "nbformat": 4,
 "nbformat_minor": 5
}
