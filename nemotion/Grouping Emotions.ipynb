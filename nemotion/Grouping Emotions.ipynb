{
 "cells": [
  {
   "cell_type": "markdown",
   "metadata": {},
   "source": [
    "# Grouping similar words"
   ]
  },
  {
   "cell_type": "code",
   "execution_count": 1,
   "metadata": {},
   "outputs": [
    {
     "name": "stdout",
     "output_type": "stream",
     "text": [
      "CPU times: user 816 ms, sys: 1.04 s, total: 1.85 s\n",
      "Wall time: 742 ms\n"
     ]
    }
   ],
   "source": [
    "%%time\n",
    "from difflib import get_close_matches\n",
    "from core.utils import get_closest_vector\n",
    "\n",
    "import matplotlib.pyplot as plt\n",
    "import pandas as pd\n",
    "import numpy as np\n",
    "\n",
    "%load_ext autoreload\n",
    "%autoreload 2"
   ]
  },
  {
   "cell_type": "markdown",
   "metadata": {},
   "source": [
    "### Reading data"
   ]
  },
  {
   "cell_type": "code",
   "execution_count": 12,
   "metadata": {},
   "outputs": [],
   "source": [
    "def clean_alt_list(list_):\n",
    "    list_ = str(list_)\n",
    "    list_ = list_.replace('[', '')\n",
    "    list_ = list_.replace(']', '')\n",
    "    list_ = list_.replace(\"'\", '')\n",
    "    list_ = list_.split(',')\n",
    "    return list_"
   ]
  },
  {
   "cell_type": "code",
   "execution_count": 13,
   "metadata": {},
   "outputs": [],
   "source": [
    "emotions = pd.read_csv('./data/emotions.csv', low_memory=False)"
   ]
  },
  {
   "cell_type": "code",
   "execution_count": 14,
   "metadata": {},
   "outputs": [],
   "source": [
    "emotions['name_tokens'] = emotions['name_tokens'].apply(lambda x: clean_alt_list(x))"
   ]
  },
  {
   "cell_type": "markdown",
   "metadata": {},
   "source": [
    "### Identifying emotions\n",
    "\n",
    "The final `emo_vector_unicode` has a lot of words which are not related with emotions or sentiments. This is because some entries in the survey was filled with free-text. In attemp to capture all posible emotions we splitted that free text in singular words (assumming that all of them could be a potencial emotion).\n",
    "\n",
    "Now It is time to discriminate them. We use [Spanish Emotion Lexicon](http://www.cic.ipn.mx/~sidorov/#SEL)(SEL) to filter words."
   ]
  },
  {
   "cell_type": "code",
   "execution_count": 15,
   "metadata": {},
   "outputs": [
    {
     "data": {
      "text/plain": [
       "array(['Alegría', 'Enojo', 'Miedo', 'Aversión', 'Sorpresa', 'Tristeza'],\n",
       "      dtype=object)"
      ]
     },
     "execution_count": 15,
     "metadata": {},
     "output_type": "execute_result"
    }
   ],
   "source": [
    "SEL_df = pd.read_excel('./files/SEL.xlsx', engine='openpyxl')\n",
    "standard_emotions = SEL_df['Palabra']\n",
    "SEL_df['Categoría'].unique()"
   ]
  },
  {
   "cell_type": "markdown",
   "metadata": {},
   "source": [
    "In order to find matches between survey words and the standard ones, we use `get_close_matches` which compare words using similarity criteria."
   ]
  },
  {
   "cell_type": "code",
   "execution_count": 16,
   "metadata": {},
   "outputs": [
    {
     "name": "stdout",
     "output_type": "stream",
     "text": [
      "CPU times: user 13min 11s, sys: 278 ms, total: 13min 11s\n",
      "Wall time: 13min 11s\n"
     ]
    }
   ],
   "source": [
    "%%time\n",
    "emo_vector_matched = []\n",
    "final_category = []\n",
    "# iterate over the list of tokens\n",
    "for word in emotions['name_tokens']:\n",
    "    closest = []\n",
    "    categories = []\n",
    "    # for each word within the list (some people wrote sentences instead of a single word)\n",
    "    for w in word:\n",
    "        # get the closest emotion from SEL dictonary\n",
    "        closest_word = get_close_matches(w.strip(), standard_emotions,n=1, cutoff=0.7)\n",
    "        if closest_word != []:\n",
    "            # if we match some emotion then save its category\n",
    "            cat = SEL_df[SEL_df['Palabra']==closest_word[0]]['Categoría']\n",
    "            categories.append(cat.values[0])\n",
    "            closest.append(closest_word[0])\n",
    "        else:\n",
    "            continue\n",
    "    \n",
    "    # at the end of the process... check if the response has a category\n",
    "    if closest == []:\n",
    "        final_category.append('')        \n",
    "        emo_vector_matched.append('')\n",
    "    else:\n",
    "        final_category.append(categories[0])        \n",
    "        emo_vector_matched.append(closest[0])"
   ]
  },
  {
   "cell_type": "code",
   "execution_count": 17,
   "metadata": {},
   "outputs": [
    {
     "name": "stdout",
     "output_type": "stream",
     "text": [
      "Non categorized values: 0.0 %\n"
     ]
    }
   ],
   "source": [
    "print('Non categorized values: {:.1f} %'.format(emotions[emotions['macro'] == ''].shape[0]/emotions.shape[0]*100))"
   ]
  },
  {
   "cell_type": "code",
   "execution_count": 18,
   "metadata": {},
   "outputs": [],
   "source": [
    "emotions['macro'] = final_category"
   ]
  },
  {
   "cell_type": "code",
   "execution_count": 20,
   "metadata": {},
   "outputs": [
    {
     "data": {
      "text/html": [
       "<div>\n",
       "<style scoped>\n",
       "    .dataframe tbody tr th:only-of-type {\n",
       "        vertical-align: middle;\n",
       "    }\n",
       "\n",
       "    .dataframe tbody tr th {\n",
       "        vertical-align: top;\n",
       "    }\n",
       "\n",
       "    .dataframe thead th {\n",
       "        text-align: right;\n",
       "    }\n",
       "</style>\n",
       "<table border=\"1\" class=\"dataframe\">\n",
       "  <thead>\n",
       "    <tr style=\"text-align: right;\">\n",
       "      <th></th>\n",
       "      <th>id</th>\n",
       "      <th>diag_id</th>\n",
       "      <th>ind_id</th>\n",
       "      <th>name</th>\n",
       "      <th>name_tokens</th>\n",
       "      <th>macro</th>\n",
       "      <th>exp</th>\n",
       "      <th>exp_tokens</th>\n",
       "      <th>is_online</th>\n",
       "    </tr>\n",
       "  </thead>\n",
       "  <tbody>\n",
       "    <tr>\n",
       "      <th>50738</th>\n",
       "      <td>50738</td>\n",
       "      <td>enc_u_4560273938808714862</td>\n",
       "      <td>NaN</td>\n",
       "      <td>ayudar y defender</td>\n",
       "      <td>[ayudar,  defender]</td>\n",
       "      <td>Aversión</td>\n",
       "      <td>ayudar a los derechos de los demas. defender  ...</td>\n",
       "      <td>['ayudar', 'derechos', 'demas', 'defender', 'v...</td>\n",
       "      <td>True</td>\n",
       "    </tr>\n",
       "    <tr>\n",
       "      <th>9324</th>\n",
       "      <td>9324</td>\n",
       "      <td>enc_u_5222441</td>\n",
       "      <td>NaN</td>\n",
       "      <td>molestos</td>\n",
       "      <td>[molestos]</td>\n",
       "      <td>Enojo</td>\n",
       "      <td>ya que las autoridades prometen cosas, que des...</td>\n",
       "      <td>['autoridades', 'prometen', 'cosas', 'despues'...</td>\n",
       "      <td>True</td>\n",
       "    </tr>\n",
       "    <tr>\n",
       "      <th>72309</th>\n",
       "      <td>72309</td>\n",
       "      <td>NaN</td>\n",
       "      <td>4255586</td>\n",
       "      <td>invadida</td>\n",
       "      <td>[invadida]</td>\n",
       "      <td>Enojo</td>\n",
       "      <td>con los disturbios, pesimo</td>\n",
       "      <td>['disturbios', 'pesimo']</td>\n",
       "      <td>False</td>\n",
       "    </tr>\n",
       "  </tbody>\n",
       "</table>\n",
       "</div>"
      ],
      "text/plain": [
       "          id                    diag_id   ind_id               name  \\\n",
       "50738  50738  enc_u_4560273938808714862      NaN  ayudar y defender   \n",
       "9324    9324              enc_u_5222441      NaN           molestos   \n",
       "72309  72309                        NaN  4255586           invadida   \n",
       "\n",
       "               name_tokens     macro  \\\n",
       "50738  [ayudar,  defender]  Aversión   \n",
       "9324            [molestos]     Enojo   \n",
       "72309           [invadida]     Enojo   \n",
       "\n",
       "                                                     exp  \\\n",
       "50738  ayudar a los derechos de los demas. defender  ...   \n",
       "9324   ya que las autoridades prometen cosas, que des...   \n",
       "72309                         con los disturbios, pesimo   \n",
       "\n",
       "                                              exp_tokens  is_online  \n",
       "50738  ['ayudar', 'derechos', 'demas', 'defender', 'v...       True  \n",
       "9324   ['autoridades', 'prometen', 'cosas', 'despues'...       True  \n",
       "72309                           ['disturbios', 'pesimo']      False  "
      ]
     },
     "execution_count": 20,
     "metadata": {},
     "output_type": "execute_result"
    }
   ],
   "source": [
    "emotions.sample(3)"
   ]
  },
  {
   "cell_type": "code",
   "execution_count": 21,
   "metadata": {},
   "outputs": [],
   "source": [
    "emotions.to_csv('./out/emotions_2_sept.csv', index=False)"
   ]
  },
  {
   "cell_type": "markdown",
   "metadata": {},
   "source": [
    "## TO CSV"
   ]
  },
  {
   "cell_type": "code",
   "execution_count": 11,
   "metadata": {},
   "outputs": [
    {
     "name": "stdout",
     "output_type": "stream",
     "text": [
      "CPU times: user 326 ms, sys: 8 ms, total: 334 ms\n",
      "Wall time: 333 ms\n"
     ]
    }
   ],
   "source": [
    "%%time\n",
    "emotions = emotions.to_csv('./out/emotions.csv', index=False)"
   ]
  },
  {
   "cell_type": "code",
   "execution_count": 22,
   "metadata": {},
   "outputs": [
    {
     "name": "stderr",
     "output_type": "stream",
     "text": [
      "/usr/local/lib/python3.6/dist-packages/IPython/core/interactiveshell.py:3072: DtypeWarning: Columns (1,2) have mixed types.Specify dtype option on import or set low_memory=False.\n",
      "  interactivity=interactivity, compiler=compiler, result=result)\n"
     ]
    },
    {
     "data": {
      "text/html": [
       "<div>\n",
       "<style scoped>\n",
       "    .dataframe tbody tr th:only-of-type {\n",
       "        vertical-align: middle;\n",
       "    }\n",
       "\n",
       "    .dataframe tbody tr th {\n",
       "        vertical-align: top;\n",
       "    }\n",
       "\n",
       "    .dataframe thead th {\n",
       "        text-align: right;\n",
       "    }\n",
       "</style>\n",
       "<table border=\"1\" class=\"dataframe\">\n",
       "  <thead>\n",
       "    <tr style=\"text-align: right;\">\n",
       "      <th></th>\n",
       "      <th>id</th>\n",
       "      <th>diag_id</th>\n",
       "      <th>ind_id</th>\n",
       "      <th>name</th>\n",
       "      <th>name_tokens</th>\n",
       "      <th>macro</th>\n",
       "      <th>exp</th>\n",
       "      <th>exp_tokens</th>\n",
       "      <th>is_online</th>\n",
       "    </tr>\n",
       "  </thead>\n",
       "  <tbody>\n",
       "    <tr>\n",
       "      <th>0</th>\n",
       "      <td>0</td>\n",
       "      <td>enc_u_4602780640112847056</td>\n",
       "      <td>NaN</td>\n",
       "      <td>rabia</td>\n",
       "      <td>['rabia']</td>\n",
       "      <td>Enojo</td>\n",
       "      <td>por el abandono del gobierno a su gente</td>\n",
       "      <td>['abandono', 'gobierno', 'gente']</td>\n",
       "      <td>True</td>\n",
       "    </tr>\n",
       "    <tr>\n",
       "      <th>1</th>\n",
       "      <td>1</td>\n",
       "      <td>enc_u_4602778880117363308</td>\n",
       "      <td>NaN</td>\n",
       "      <td>intranquilidad</td>\n",
       "      <td>['intranquilidad']</td>\n",
       "      <td>Aversión</td>\n",
       "      <td>porque uno no sabe lo que viene mas adelante</td>\n",
       "      <td>['sabe', 'viene', 'mas', 'adelante']</td>\n",
       "      <td>True</td>\n",
       "    </tr>\n",
       "    <tr>\n",
       "      <th>2</th>\n",
       "      <td>2</td>\n",
       "      <td>enc_u_4602777200118509403</td>\n",
       "      <td>NaN</td>\n",
       "      <td>incertidumbre</td>\n",
       "      <td>['incertidumbre']</td>\n",
       "      <td>Miedo</td>\n",
       "      <td>se encontraba en santiago y no sabia si podia ...</td>\n",
       "      <td>['encontraba', 'santiago', 'sabia', 'si', 'pod...</td>\n",
       "      <td>True</td>\n",
       "    </tr>\n",
       "    <tr>\n",
       "      <th>3</th>\n",
       "      <td>3</td>\n",
       "      <td>enc_u_4602666791193242253</td>\n",
       "      <td>NaN</td>\n",
       "      <td>confuso</td>\n",
       "      <td>['confuso']</td>\n",
       "      <td>Miedo</td>\n",
       "      <td>por inestabilidad laboral, economica, y social...</td>\n",
       "      <td>['inestabilidad', 'laboral', 'economica', 'soc...</td>\n",
       "      <td>True</td>\n",
       "    </tr>\n",
       "    <tr>\n",
       "      <th>4</th>\n",
       "      <td>4</td>\n",
       "      <td>enc_u_4602651983012551467</td>\n",
       "      <td>NaN</td>\n",
       "      <td>rabia/impotencia</td>\n",
       "      <td>['rabia', ' impotencia']</td>\n",
       "      <td>Enojo</td>\n",
       "      <td>por funcionamiento de los servicios ya que se ...</td>\n",
       "      <td>['funcionamiento', 'servicios', 'paralizan', '...</td>\n",
       "      <td>True</td>\n",
       "    </tr>\n",
       "    <tr>\n",
       "      <th>...</th>\n",
       "      <td>...</td>\n",
       "      <td>...</td>\n",
       "      <td>...</td>\n",
       "      <td>...</td>\n",
       "      <td>...</td>\n",
       "      <td>...</td>\n",
       "      <td>...</td>\n",
       "      <td>...</td>\n",
       "      <td>...</td>\n",
       "    </tr>\n",
       "    <tr>\n",
       "      <th>83740</th>\n",
       "      <td>83740</td>\n",
       "      <td>NaN</td>\n",
       "      <td>0509e2ef02a033fc0efab1214e68be09</td>\n",
       "      <td>triste</td>\n",
       "      <td>['triste']</td>\n",
       "      <td>Tristeza</td>\n",
       "      <td>la situacion actual solo suma tristeza, sin im...</td>\n",
       "      <td>['situacion', 'actual', 'solo', 'suma', 'trist...</td>\n",
       "      <td>True</td>\n",
       "    </tr>\n",
       "    <tr>\n",
       "      <th>83741</th>\n",
       "      <td>83741</td>\n",
       "      <td>NaN</td>\n",
       "      <td>c4960481a3875eb1cfbe32c33dc362c0</td>\n",
       "      <td>miedo</td>\n",
       "      <td>['miedo']</td>\n",
       "      <td>Miedo</td>\n",
       "      <td>la posibilidad que le pase algo a mi familia e...</td>\n",
       "      <td>['posibilidad', 'pase', 'familia', 'alta']</td>\n",
       "      <td>True</td>\n",
       "    </tr>\n",
       "    <tr>\n",
       "      <th>83742</th>\n",
       "      <td>83742</td>\n",
       "      <td>NaN</td>\n",
       "      <td>2eac9b65b2b1ec5d134d6b45c83315fe</td>\n",
       "      <td>triste</td>\n",
       "      <td>['triste']</td>\n",
       "      <td>Tristeza</td>\n",
       "      <td>NaN</td>\n",
       "      <td>NaN</td>\n",
       "      <td>True</td>\n",
       "    </tr>\n",
       "    <tr>\n",
       "      <th>83743</th>\n",
       "      <td>83743</td>\n",
       "      <td>NaN</td>\n",
       "      <td>ddc84f9d6d278cf3d32a0df820e01688</td>\n",
       "      <td>triste</td>\n",
       "      <td>['triste']</td>\n",
       "      <td>Tristeza</td>\n",
       "      <td>triste de ver como el pais donde creci se quema</td>\n",
       "      <td>['triste', 'ver', 'pais', 'creci', 'quema']</td>\n",
       "      <td>True</td>\n",
       "    </tr>\n",
       "    <tr>\n",
       "      <th>83744</th>\n",
       "      <td>83744</td>\n",
       "      <td>NaN</td>\n",
       "      <td>b1e9ef4111f4267cf1df2ca921aadfc8</td>\n",
       "      <td>angustiado</td>\n",
       "      <td>['angustiado']</td>\n",
       "      <td>Miedo</td>\n",
       "      <td>por la inseguridad ,para mi familia</td>\n",
       "      <td>['inseguridad', 'familia']</td>\n",
       "      <td>True</td>\n",
       "    </tr>\n",
       "  </tbody>\n",
       "</table>\n",
       "<p>83745 rows × 9 columns</p>\n",
       "</div>"
      ],
      "text/plain": [
       "          id                    diag_id                            ind_id  \\\n",
       "0          0  enc_u_4602780640112847056                               NaN   \n",
       "1          1  enc_u_4602778880117363308                               NaN   \n",
       "2          2  enc_u_4602777200118509403                               NaN   \n",
       "3          3  enc_u_4602666791193242253                               NaN   \n",
       "4          4  enc_u_4602651983012551467                               NaN   \n",
       "...      ...                        ...                               ...   \n",
       "83740  83740                        NaN  0509e2ef02a033fc0efab1214e68be09   \n",
       "83741  83741                        NaN  c4960481a3875eb1cfbe32c33dc362c0   \n",
       "83742  83742                        NaN  2eac9b65b2b1ec5d134d6b45c83315fe   \n",
       "83743  83743                        NaN  ddc84f9d6d278cf3d32a0df820e01688   \n",
       "83744  83744                        NaN  b1e9ef4111f4267cf1df2ca921aadfc8   \n",
       "\n",
       "                   name               name_tokens     macro  \\\n",
       "0                 rabia                 ['rabia']     Enojo   \n",
       "1        intranquilidad        ['intranquilidad']  Aversión   \n",
       "2         incertidumbre         ['incertidumbre']     Miedo   \n",
       "3               confuso               ['confuso']     Miedo   \n",
       "4      rabia/impotencia  ['rabia', ' impotencia']     Enojo   \n",
       "...                 ...                       ...       ...   \n",
       "83740            triste                ['triste']  Tristeza   \n",
       "83741             miedo                 ['miedo']     Miedo   \n",
       "83742            triste                ['triste']  Tristeza   \n",
       "83743            triste                ['triste']  Tristeza   \n",
       "83744        angustiado            ['angustiado']     Miedo   \n",
       "\n",
       "                                                     exp  \\\n",
       "0                por el abandono del gobierno a su gente   \n",
       "1           porque uno no sabe lo que viene mas adelante   \n",
       "2      se encontraba en santiago y no sabia si podia ...   \n",
       "3      por inestabilidad laboral, economica, y social...   \n",
       "4      por funcionamiento de los servicios ya que se ...   \n",
       "...                                                  ...   \n",
       "83740  la situacion actual solo suma tristeza, sin im...   \n",
       "83741  la posibilidad que le pase algo a mi familia e...   \n",
       "83742                                                NaN   \n",
       "83743    triste de ver como el pais donde creci se quema   \n",
       "83744                por la inseguridad ,para mi familia   \n",
       "\n",
       "                                              exp_tokens  is_online  \n",
       "0                      ['abandono', 'gobierno', 'gente']       True  \n",
       "1                   ['sabe', 'viene', 'mas', 'adelante']       True  \n",
       "2      ['encontraba', 'santiago', 'sabia', 'si', 'pod...       True  \n",
       "3      ['inestabilidad', 'laboral', 'economica', 'soc...       True  \n",
       "4      ['funcionamiento', 'servicios', 'paralizan', '...       True  \n",
       "...                                                  ...        ...  \n",
       "83740  ['situacion', 'actual', 'solo', 'suma', 'trist...       True  \n",
       "83741         ['posibilidad', 'pase', 'familia', 'alta']       True  \n",
       "83742                                                NaN       True  \n",
       "83743        ['triste', 'ver', 'pais', 'creci', 'quema']       True  \n",
       "83744                         ['inseguridad', 'familia']       True  \n",
       "\n",
       "[83745 rows x 9 columns]"
      ]
     },
     "execution_count": 22,
     "metadata": {},
     "output_type": "execute_result"
    }
   ],
   "source": [
    "pd.read_csv('./out/emotions_2_sept.csv')"
   ]
  },
  {
   "cell_type": "code",
   "execution_count": null,
   "metadata": {},
   "outputs": [],
   "source": []
  },
  {
   "cell_type": "code",
   "execution_count": null,
   "metadata": {},
   "outputs": [],
   "source": []
  },
  {
   "cell_type": "code",
   "execution_count": null,
   "metadata": {},
   "outputs": [],
   "source": []
  }
 ],
 "metadata": {
  "kernelspec": {
   "display_name": "Python 3",
   "language": "python",
   "name": "python3"
  },
  "language_info": {
   "codemirror_mode": {
    "name": "ipython",
    "version": 3
   },
   "file_extension": ".py",
   "mimetype": "text/x-python",
   "name": "python",
   "nbconvert_exporter": "python",
   "pygments_lexer": "ipython3",
   "version": "3.6.9"
  }
 },
 "nbformat": 4,
 "nbformat_minor": 2
}
