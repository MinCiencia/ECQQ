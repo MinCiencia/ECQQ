{
 "cells": [
  {
   "cell_type": "markdown",
   "metadata": {},
   "source": [
    "# Actualizacion de Tablas SQL\n",
    "## Utilizando las nuevas tablas desde el modulo de sistematizacion"
   ]
  },
  {
   "cell_type": "markdown",
   "metadata": {},
   "source": [
    "Antes que todo, es necesario que la carpeta `db/CSV/` se encuentra con los archivos nuevos -i.e., copiar y reemplazar en la carpeta las tablas nuevas.\n",
    "\n",
    "En particular, las nuevas tablas contienen procesada la columna `macro`. Esta columna asigna una etiqueta o categoria, permitiendo agrupar distintas respuestas. "
   ]
  },
  {
   "cell_type": "code",
   "execution_count": 1,
   "metadata": {},
   "outputs": [
    {
     "name": "stderr",
     "output_type": "stream",
     "text": [
      "[nltk_data] Downloading package stopwords to /home/jovyan/nltk_data...\n",
      "[nltk_data]   Package stopwords is already up-to-date!\n"
     ]
    }
   ],
   "source": [
    "import pandas as pd\n",
    "import numpy as np\n",
    "import os \n",
    "\n",
    "\n",
    "from use_cases.pairs import create_pair_token\n",
    "from use_cases.utils.textools import clean_alt_list, to_unicode, str_to_int, eliminate_nrs\n",
    "\n",
    "from use_cases.contributions import create_table_contributions, to_sql as con_to_sql\n",
    "from use_cases.emotions import create_table_emotions, to_sql as emo_to_sql \n",
    "from use_cases.personal_needs import create_table_personal_needs, to_sql as per_need_to_sql\n",
    "from use_cases.country_needs import create_table_country_needs, to_sql as count_need_to_sql\n",
    "\n",
    "%load_ext autoreload\n",
    "%autoreload 2"
   ]
  },
  {
   "cell_type": "markdown",
   "metadata": {},
   "source": [
    "### Emociones y Sentimientos"
   ]
  },
  {
   "cell_type": "code",
   "execution_count": 2,
   "metadata": {},
   "outputs": [],
   "source": [
    "emotions_table = pd.read_csv('./db/CSV/emotions.csv', low_memory=False)"
   ]
  },
  {
   "cell_type": "code",
   "execution_count": 3,
   "metadata": {},
   "outputs": [
    {
     "data": {
      "text/html": [
       "<div>\n",
       "<style scoped>\n",
       "    .dataframe tbody tr th:only-of-type {\n",
       "        vertical-align: middle;\n",
       "    }\n",
       "\n",
       "    .dataframe tbody tr th {\n",
       "        vertical-align: top;\n",
       "    }\n",
       "\n",
       "    .dataframe thead th {\n",
       "        text-align: right;\n",
       "    }\n",
       "</style>\n",
       "<table border=\"1\" class=\"dataframe\">\n",
       "  <thead>\n",
       "    <tr style=\"text-align: right;\">\n",
       "      <th></th>\n",
       "      <th>id</th>\n",
       "      <th>diag_id</th>\n",
       "      <th>ind_id</th>\n",
       "      <th>name</th>\n",
       "      <th>name_tokens</th>\n",
       "      <th>macro</th>\n",
       "      <th>exp</th>\n",
       "      <th>exp_tokens</th>\n",
       "      <th>is_online</th>\n",
       "    </tr>\n",
       "  </thead>\n",
       "  <tbody>\n",
       "    <tr>\n",
       "      <th>75832</th>\n",
       "      <td>75832</td>\n",
       "      <td>NaN</td>\n",
       "      <td>3106330</td>\n",
       "      <td>impotencia</td>\n",
       "      <td>['impotencia']</td>\n",
       "      <td>Tristeza</td>\n",
       "      <td>de no poder hacer nada por cambiar el pais a l...</td>\n",
       "      <td>['poder', 'hacer', 'cambiar', 'pais', 'edad']</td>\n",
       "      <td>False</td>\n",
       "    </tr>\n",
       "    <tr>\n",
       "      <th>54535</th>\n",
       "      <td>54535</td>\n",
       "      <td>enc_u_4598366420779259830</td>\n",
       "      <td>NaN</td>\n",
       "      <td>rabia</td>\n",
       "      <td>['rabia']</td>\n",
       "      <td>Enojo</td>\n",
       "      <td>por lo que generan los destrozos y no se puede...</td>\n",
       "      <td>['generan', 'destrozos', 'puede', 'hacer']</td>\n",
       "      <td>True</td>\n",
       "    </tr>\n",
       "  </tbody>\n",
       "</table>\n",
       "</div>"
      ],
      "text/plain": [
       "          id                    diag_id   ind_id        name     name_tokens  \\\n",
       "75832  75832                        NaN  3106330  impotencia  ['impotencia']   \n",
       "54535  54535  enc_u_4598366420779259830      NaN       rabia       ['rabia']   \n",
       "\n",
       "          macro                                                exp  \\\n",
       "75832  Tristeza  de no poder hacer nada por cambiar el pais a l...   \n",
       "54535     Enojo  por lo que generan los destrozos y no se puede...   \n",
       "\n",
       "                                          exp_tokens  is_online  \n",
       "75832  ['poder', 'hacer', 'cambiar', 'pais', 'edad']      False  \n",
       "54535     ['generan', 'destrozos', 'puede', 'hacer']       True  "
      ]
     },
     "execution_count": 3,
     "metadata": {},
     "output_type": "execute_result"
    }
   ],
   "source": [
    "emotions_table.sample(2)"
   ]
  },
  {
   "cell_type": "markdown",
   "metadata": {},
   "source": [
    "las listas se guardan como `strings` en el csv, es necesario volver a dejarlos como `listas`, asi tambien como pasar los id de los dialogos a `unicode`"
   ]
  },
  {
   "cell_type": "code",
   "execution_count": 4,
   "metadata": {},
   "outputs": [],
   "source": [
    "emotions_table = eliminate_nrs(emotions_table)\n",
    "emotions_table['name_tokens'] = emotions_table['name_tokens'].apply(lambda x: clean_alt_list(x))\n",
    "emotions_table['exp_tokens'] = emotions_table['exp_tokens'].apply(lambda x: clean_alt_list(x))"
   ]
  },
  {
   "cell_type": "code",
   "execution_count": 5,
   "metadata": {},
   "outputs": [
    {
     "data": {
      "text/html": [
       "<div>\n",
       "<style scoped>\n",
       "    .dataframe tbody tr th:only-of-type {\n",
       "        vertical-align: middle;\n",
       "    }\n",
       "\n",
       "    .dataframe tbody tr th {\n",
       "        vertical-align: top;\n",
       "    }\n",
       "\n",
       "    .dataframe thead th {\n",
       "        text-align: right;\n",
       "    }\n",
       "</style>\n",
       "<table border=\"1\" class=\"dataframe\">\n",
       "  <thead>\n",
       "    <tr style=\"text-align: right;\">\n",
       "      <th></th>\n",
       "      <th>id</th>\n",
       "      <th>diag_id</th>\n",
       "      <th>ind_id</th>\n",
       "      <th>name</th>\n",
       "      <th>name_tokens</th>\n",
       "      <th>macro</th>\n",
       "      <th>exp</th>\n",
       "      <th>exp_tokens</th>\n",
       "      <th>is_online</th>\n",
       "    </tr>\n",
       "  </thead>\n",
       "  <tbody>\n",
       "    <tr>\n",
       "      <th>64303</th>\n",
       "      <td>64303</td>\n",
       "      <td></td>\n",
       "      <td>3192592</td>\n",
       "      <td>incomodidad</td>\n",
       "      <td>[incomodidad]</td>\n",
       "      <td>Enojo</td>\n",
       "      <td>por que veo que no se soluciona nada</td>\n",
       "      <td>[veo, soluciona]</td>\n",
       "      <td>False</td>\n",
       "    </tr>\n",
       "    <tr>\n",
       "      <th>50231</th>\n",
       "      <td>50231</td>\n",
       "      <td>enc_u_4574883470112197190</td>\n",
       "      <td></td>\n",
       "      <td>incertidumbre</td>\n",
       "      <td>[incertidumbre]</td>\n",
       "      <td>Miedo</td>\n",
       "      <td>no se sabe lo que seguira</td>\n",
       "      <td>[sabe, seguira]</td>\n",
       "      <td>True</td>\n",
       "    </tr>\n",
       "  </tbody>\n",
       "</table>\n",
       "</div>"
      ],
      "text/plain": [
       "          id                    diag_id   ind_id           name  \\\n",
       "64303  64303                             3192592    incomodidad   \n",
       "50231  50231  enc_u_4574883470112197190           incertidumbre   \n",
       "\n",
       "           name_tokens  macro                                   exp  \\\n",
       "64303    [incomodidad]  Enojo  por que veo que no se soluciona nada   \n",
       "50231  [incertidumbre]  Miedo            no se sabe lo que seguira    \n",
       "\n",
       "             exp_tokens  is_online  \n",
       "64303  [veo, soluciona]      False  \n",
       "50231   [sabe, seguira]       True  "
      ]
     },
     "execution_count": 5,
     "metadata": {},
     "output_type": "execute_result"
    }
   ],
   "source": [
    "emotions_table.sample(2)"
   ]
  },
  {
   "cell_type": "markdown",
   "metadata": {},
   "source": [
    "Debemos recalcular los pares de palabras en caso de que algo haya cambiado"
   ]
  },
  {
   "cell_type": "code",
   "execution_count": 6,
   "metadata": {},
   "outputs": [],
   "source": [
    "emotion_pair = create_pair_token(emotions_table, 'exp_tokens', 'emotion_id')"
   ]
  },
  {
   "cell_type": "markdown",
   "metadata": {},
   "source": [
    "guardamos/reemplazamos la nueva tabla de pares y finalmente los nuevos `.sql`"
   ]
  },
  {
   "cell_type": "code",
   "execution_count": 7,
   "metadata": {},
   "outputs": [],
   "source": [
    "emotion_pair.to_csv('./db/CSV/emotions_pairs.csv', index=False)\n",
    "emo_to_sql(emotions_table, './db/SQL_INSERT/emotions.sql')"
   ]
  },
  {
   "cell_type": "markdown",
   "metadata": {},
   "source": [
    "### Contribuciones"
   ]
  },
  {
   "cell_type": "markdown",
   "metadata": {},
   "source": [
    "En el caso de contribuciones solo necesitamos guardar el nuevo `csv` como `sql`"
   ]
  },
  {
   "cell_type": "code",
   "execution_count": 8,
   "metadata": {},
   "outputs": [],
   "source": [
    "contributions_table = pd.read_csv('./db/CSV/contributions.csv', low_memory=False)"
   ]
  },
  {
   "cell_type": "code",
   "execution_count": 9,
   "metadata": {},
   "outputs": [
    {
     "data": {
      "text/html": [
       "<div>\n",
       "<style scoped>\n",
       "    .dataframe tbody tr th:only-of-type {\n",
       "        vertical-align: middle;\n",
       "    }\n",
       "\n",
       "    .dataframe tbody tr th {\n",
       "        vertical-align: top;\n",
       "    }\n",
       "\n",
       "    .dataframe thead th {\n",
       "        text-align: right;\n",
       "    }\n",
       "</style>\n",
       "<table border=\"1\" class=\"dataframe\">\n",
       "  <thead>\n",
       "    <tr style=\"text-align: right;\">\n",
       "      <th></th>\n",
       "      <th>id</th>\n",
       "      <th>diag_id</th>\n",
       "      <th>ind_id</th>\n",
       "      <th>text</th>\n",
       "      <th>tokens</th>\n",
       "      <th>macro</th>\n",
       "      <th>is_online</th>\n",
       "    </tr>\n",
       "  </thead>\n",
       "  <tbody>\n",
       "    <tr>\n",
       "      <th>64658</th>\n",
       "      <td>79821</td>\n",
       "      <td>NaN</td>\n",
       "      <td>4724252</td>\n",
       "      <td>trabajar para el estado</td>\n",
       "      <td>['trabajar']</td>\n",
       "      <td>Trabajo</td>\n",
       "      <td>False</td>\n",
       "    </tr>\n",
       "  </tbody>\n",
       "</table>\n",
       "</div>"
      ],
      "text/plain": [
       "          id diag_id   ind_id                     text        tokens    macro  \\\n",
       "64658  79821     NaN  4724252  trabajar para el estado  ['trabajar']  Trabajo   \n",
       "\n",
       "       is_online  \n",
       "64658      False  "
      ]
     },
     "execution_count": 9,
     "metadata": {},
     "output_type": "execute_result"
    }
   ],
   "source": [
    "contributions_table.sample(1)"
   ]
  },
  {
   "cell_type": "code",
   "execution_count": 10,
   "metadata": {},
   "outputs": [],
   "source": [
    "contributions_table = eliminate_nrs(contributions_table)\n",
    "contributions_table['tokens'] = contributions_table['tokens'].apply(lambda x: clean_alt_list(x))"
   ]
  },
  {
   "cell_type": "code",
   "execution_count": 11,
   "metadata": {},
   "outputs": [
    {
     "data": {
      "text/html": [
       "<div>\n",
       "<style scoped>\n",
       "    .dataframe tbody tr th:only-of-type {\n",
       "        vertical-align: middle;\n",
       "    }\n",
       "\n",
       "    .dataframe tbody tr th {\n",
       "        vertical-align: top;\n",
       "    }\n",
       "\n",
       "    .dataframe thead th {\n",
       "        text-align: right;\n",
       "    }\n",
       "</style>\n",
       "<table border=\"1\" class=\"dataframe\">\n",
       "  <thead>\n",
       "    <tr style=\"text-align: right;\">\n",
       "      <th></th>\n",
       "      <th>id</th>\n",
       "      <th>diag_id</th>\n",
       "      <th>ind_id</th>\n",
       "      <th>text</th>\n",
       "      <th>tokens</th>\n",
       "      <th>macro</th>\n",
       "      <th>is_online</th>\n",
       "    </tr>\n",
       "  </thead>\n",
       "  <tbody>\n",
       "    <tr>\n",
       "      <th>63725</th>\n",
       "      <td>78329</td>\n",
       "      <td></td>\n",
       "      <td>5540287</td>\n",
       "      <td>que el gobierno escuche al pais y no que esper...</td>\n",
       "      <td>[gobierno, escuche, pais, esperen, chile, term...</td>\n",
       "      <td>Voluntariado</td>\n",
       "      <td>False</td>\n",
       "    </tr>\n",
       "  </tbody>\n",
       "</table>\n",
       "</div>"
      ],
      "text/plain": [
       "          id diag_id   ind_id  \\\n",
       "63725  78329          5540287   \n",
       "\n",
       "                                                    text  \\\n",
       "63725  que el gobierno escuche al pais y no que esper...   \n",
       "\n",
       "                                                  tokens         macro  \\\n",
       "63725  [gobierno, escuche, pais, esperen, chile, term...  Voluntariado   \n",
       "\n",
       "       is_online  \n",
       "63725      False  "
      ]
     },
     "execution_count": 11,
     "metadata": {},
     "output_type": "execute_result"
    }
   ],
   "source": [
    "contributions_table.sample(1)"
   ]
  },
  {
   "cell_type": "code",
   "execution_count": 12,
   "metadata": {},
   "outputs": [],
   "source": [
    "con_to_sql(contributions_table, './db/SQL_INSERT/contributions.sql')"
   ]
  },
  {
   "cell_type": "markdown",
   "metadata": {},
   "source": [
    "### Necesidades Personales"
   ]
  },
  {
   "cell_type": "code",
   "execution_count": 14,
   "metadata": {},
   "outputs": [],
   "source": [
    "personal_needs_table = pd.read_csv('./db/CSV/personal_needs.csv', low_memory=False)"
   ]
  },
  {
   "cell_type": "code",
   "execution_count": 15,
   "metadata": {},
   "outputs": [
    {
     "data": {
      "text/html": [
       "<div>\n",
       "<style scoped>\n",
       "    .dataframe tbody tr th:only-of-type {\n",
       "        vertical-align: middle;\n",
       "    }\n",
       "\n",
       "    .dataframe tbody tr th {\n",
       "        vertical-align: top;\n",
       "    }\n",
       "\n",
       "    .dataframe thead th {\n",
       "        text-align: right;\n",
       "    }\n",
       "</style>\n",
       "<table border=\"1\" class=\"dataframe\">\n",
       "  <thead>\n",
       "    <tr style=\"text-align: right;\">\n",
       "      <th></th>\n",
       "      <th>id</th>\n",
       "      <th>diag_id</th>\n",
       "      <th>ind_id</th>\n",
       "      <th>name</th>\n",
       "      <th>name_tokens</th>\n",
       "      <th>exp</th>\n",
       "      <th>exp_tokens</th>\n",
       "      <th>macro</th>\n",
       "      <th>priority</th>\n",
       "      <th>is_online</th>\n",
       "    </tr>\n",
       "  </thead>\n",
       "  <tbody>\n",
       "    <tr>\n",
       "      <th>14169</th>\n",
       "      <td>14169</td>\n",
       "      <td>enc_u_4542244700112003015</td>\n",
       "      <td>NaN</td>\n",
       "      <td>inseguridad</td>\n",
       "      <td>['inseguridad']</td>\n",
       "      <td>los barrios estan tomados por la delincuencia ...</td>\n",
       "      <td>['barrios', 'estan', 'tomados', 'delincuencia'...</td>\n",
       "      <td>vivienda</td>\n",
       "      <td>1</td>\n",
       "      <td>False</td>\n",
       "    </tr>\n",
       "  </tbody>\n",
       "</table>\n",
       "</div>"
      ],
      "text/plain": [
       "          id                    diag_id ind_id         name      name_tokens  \\\n",
       "14169  14169  enc_u_4542244700112003015    NaN  inseguridad  ['inseguridad']   \n",
       "\n",
       "                                                     exp  \\\n",
       "14169  los barrios estan tomados por la delincuencia ...   \n",
       "\n",
       "                                              exp_tokens     macro  priority  \\\n",
       "14169  ['barrios', 'estan', 'tomados', 'delincuencia'...  vivienda         1   \n",
       "\n",
       "       is_online  \n",
       "14169      False  "
      ]
     },
     "execution_count": 15,
     "metadata": {},
     "output_type": "execute_result"
    }
   ],
   "source": [
    "personal_needs_table.sample(1)"
   ]
  },
  {
   "cell_type": "code",
   "execution_count": 16,
   "metadata": {},
   "outputs": [],
   "source": [
    "personal_needs_table = eliminate_nrs(personal_needs_table)\n",
    "\n",
    "personal_needs_table['name_tokens'] = personal_needs_table['name_tokens'].apply(lambda x: clean_alt_list(x))\n",
    "personal_needs_table['exp_tokens'] = personal_needs_table['exp_tokens'].apply(lambda x: clean_alt_list(x))\n",
    "\n",
    "\n",
    "personal_needs_table['is_online'] = personal_needs_table['is_online'].apply(lambda x: bool(x))\n",
    "personal_needs_table['priority'] = personal_needs_table['priority'].apply(lambda x: int(x))"
   ]
  },
  {
   "cell_type": "code",
   "execution_count": 17,
   "metadata": {},
   "outputs": [
    {
     "data": {
      "text/html": [
       "<div>\n",
       "<style scoped>\n",
       "    .dataframe tbody tr th:only-of-type {\n",
       "        vertical-align: middle;\n",
       "    }\n",
       "\n",
       "    .dataframe tbody tr th {\n",
       "        vertical-align: top;\n",
       "    }\n",
       "\n",
       "    .dataframe thead th {\n",
       "        text-align: right;\n",
       "    }\n",
       "</style>\n",
       "<table border=\"1\" class=\"dataframe\">\n",
       "  <thead>\n",
       "    <tr style=\"text-align: right;\">\n",
       "      <th></th>\n",
       "      <th>id</th>\n",
       "      <th>diag_id</th>\n",
       "      <th>ind_id</th>\n",
       "      <th>name</th>\n",
       "      <th>name_tokens</th>\n",
       "      <th>exp</th>\n",
       "      <th>exp_tokens</th>\n",
       "      <th>macro</th>\n",
       "      <th>priority</th>\n",
       "      <th>is_online</th>\n",
       "    </tr>\n",
       "  </thead>\n",
       "  <tbody>\n",
       "    <tr>\n",
       "      <th>86745</th>\n",
       "      <td>86745</td>\n",
       "      <td></td>\n",
       "      <td>4214867</td>\n",
       "      <td>salud</td>\n",
       "      <td>[salud]</td>\n",
       "      <td>hay medicamentos que no entregan en el consult...</td>\n",
       "      <td>[medicamentos, entregan, consultorio, salud, m...</td>\n",
       "      <td>salud</td>\n",
       "      <td>3</td>\n",
       "      <td>False</td>\n",
       "    </tr>\n",
       "  </tbody>\n",
       "</table>\n",
       "</div>"
      ],
      "text/plain": [
       "          id diag_id   ind_id   name name_tokens  \\\n",
       "86745  86745          4214867  salud     [salud]   \n",
       "\n",
       "                                                     exp  \\\n",
       "86745  hay medicamentos que no entregan en el consult...   \n",
       "\n",
       "                                              exp_tokens  macro  priority  \\\n",
       "86745  [medicamentos, entregan, consultorio, salud, m...  salud         3   \n",
       "\n",
       "       is_online  \n",
       "86745      False  "
      ]
     },
     "execution_count": 17,
     "metadata": {},
     "output_type": "execute_result"
    }
   ],
   "source": [
    "personal_needs_table.sample(1)"
   ]
  },
  {
   "cell_type": "markdown",
   "metadata": {},
   "source": [
    "Debemos recalcular los pares de palabras en caso de que algo haya cambiado"
   ]
  },
  {
   "cell_type": "code",
   "execution_count": 18,
   "metadata": {},
   "outputs": [],
   "source": [
    "personal_needs_pairs = create_pair_token(personal_needs_table, 'exp_tokens', 'personal_need_id')"
   ]
  },
  {
   "cell_type": "markdown",
   "metadata": {},
   "source": [
    "guardamos/reemplazamos la nueva tabla de pares y finalmente los nuevos `.sql`"
   ]
  },
  {
   "cell_type": "code",
   "execution_count": 19,
   "metadata": {},
   "outputs": [],
   "source": [
    "personal_needs_pairs.to_csv('./db/CSV/personal_needs_pairs.csv', index=False)\n",
    "per_need_to_sql(personal_needs_table, './db/SQL_INSERT/personal_needs.sql')"
   ]
  },
  {
   "cell_type": "markdown",
   "metadata": {},
   "source": [
    "### Necesidades Pais"
   ]
  },
  {
   "cell_type": "code",
   "execution_count": 20,
   "metadata": {},
   "outputs": [],
   "source": [
    "country_needs_table = pd.read_csv('./db/CSV/country_needs.csv', low_memory=False)"
   ]
  },
  {
   "cell_type": "code",
   "execution_count": 21,
   "metadata": {},
   "outputs": [
    {
     "data": {
      "text/html": [
       "<div>\n",
       "<style scoped>\n",
       "    .dataframe tbody tr th:only-of-type {\n",
       "        vertical-align: middle;\n",
       "    }\n",
       "\n",
       "    .dataframe tbody tr th {\n",
       "        vertical-align: top;\n",
       "    }\n",
       "\n",
       "    .dataframe thead th {\n",
       "        text-align: right;\n",
       "    }\n",
       "</style>\n",
       "<table border=\"1\" class=\"dataframe\">\n",
       "  <thead>\n",
       "    <tr style=\"text-align: right;\">\n",
       "      <th></th>\n",
       "      <th>id</th>\n",
       "      <th>diag_id</th>\n",
       "      <th>ind_id</th>\n",
       "      <th>name</th>\n",
       "      <th>name_tokens</th>\n",
       "      <th>macro</th>\n",
       "      <th>exp</th>\n",
       "      <th>exp_tokens</th>\n",
       "      <th>role</th>\n",
       "      <th>role_tokens</th>\n",
       "      <th>actor</th>\n",
       "      <th>priority</th>\n",
       "      <th>is_online</th>\n",
       "    </tr>\n",
       "  </thead>\n",
       "  <tbody>\n",
       "    <tr>\n",
       "      <th>16907</th>\n",
       "      <td>16908</td>\n",
       "      <td>enc_u_4520740619151564403</td>\n",
       "      <td>NaN</td>\n",
       "      <td>falta de dinero</td>\n",
       "      <td>['falta', 'dinero']</td>\n",
       "      <td>NR</td>\n",
       "      <td>NaN</td>\n",
       "      <td>NR</td>\n",
       "      <td>aumento de pensiones\\n-aumento de sueldos\\n-au...</td>\n",
       "      <td>['aumento', 'pensiones', 'aumento', 'sueldos',...</td>\n",
       "      <td>estado</td>\n",
       "      <td>NaN</td>\n",
       "      <td>False</td>\n",
       "    </tr>\n",
       "  </tbody>\n",
       "</table>\n",
       "</div>"
      ],
      "text/plain": [
       "          id                    diag_id ind_id             name  \\\n",
       "16907  16908  enc_u_4520740619151564403    NaN  falta de dinero   \n",
       "\n",
       "               name_tokens macro  exp exp_tokens  \\\n",
       "16907  ['falta', 'dinero']    NR  NaN         NR   \n",
       "\n",
       "                                                    role  \\\n",
       "16907  aumento de pensiones\\n-aumento de sueldos\\n-au...   \n",
       "\n",
       "                                             role_tokens   actor  priority  \\\n",
       "16907  ['aumento', 'pensiones', 'aumento', 'sueldos',...  estado       NaN   \n",
       "\n",
       "       is_online  \n",
       "16907      False  "
      ]
     },
     "execution_count": 21,
     "metadata": {},
     "output_type": "execute_result"
    }
   ],
   "source": [
    "country_needs_table.sample(1)"
   ]
  },
  {
   "cell_type": "code",
   "execution_count": 22,
   "metadata": {},
   "outputs": [],
   "source": [
    "country_needs_table = eliminate_nrs(country_needs_table)\n",
    "country_needs_table['name_tokens'] = country_needs_table['name_tokens'].apply(lambda x: clean_alt_list(x))\n",
    "country_needs_table['exp_tokens'] = country_needs_table['exp_tokens'].apply(lambda x: clean_alt_list(x))\n",
    "country_needs_table['role_tokens'] = country_needs_table['role_tokens'].apply(lambda x: clean_alt_list(x))\n",
    "\n",
    "country_needs_table['is_online'] = country_needs_table['is_online'].apply(lambda x: bool(x))\n",
    "country_needs_table['priority'] = country_needs_table['priority'].apply(lambda x: str_to_int(x))"
   ]
  },
  {
   "cell_type": "code",
   "execution_count": 23,
   "metadata": {},
   "outputs": [
    {
     "data": {
      "text/html": [
       "<div>\n",
       "<style scoped>\n",
       "    .dataframe tbody tr th:only-of-type {\n",
       "        vertical-align: middle;\n",
       "    }\n",
       "\n",
       "    .dataframe tbody tr th {\n",
       "        vertical-align: top;\n",
       "    }\n",
       "\n",
       "    .dataframe thead th {\n",
       "        text-align: right;\n",
       "    }\n",
       "</style>\n",
       "<table border=\"1\" class=\"dataframe\">\n",
       "  <thead>\n",
       "    <tr style=\"text-align: right;\">\n",
       "      <th></th>\n",
       "      <th>id</th>\n",
       "      <th>diag_id</th>\n",
       "      <th>ind_id</th>\n",
       "      <th>name</th>\n",
       "      <th>name_tokens</th>\n",
       "      <th>macro</th>\n",
       "      <th>exp</th>\n",
       "      <th>exp_tokens</th>\n",
       "      <th>role</th>\n",
       "      <th>role_tokens</th>\n",
       "      <th>actor</th>\n",
       "      <th>priority</th>\n",
       "      <th>is_online</th>\n",
       "    </tr>\n",
       "  </thead>\n",
       "  <tbody>\n",
       "    <tr>\n",
       "      <th>1876</th>\n",
       "      <td>1877</td>\n",
       "      <td>enc_u_4549115135187566849</td>\n",
       "      <td></td>\n",
       "      <td>salud</td>\n",
       "      <td>[salud]</td>\n",
       "      <td>salud</td>\n",
       "      <td>- acceso equitativo\\n- alimentacion saludable\\...</td>\n",
       "      <td>[acceso, equitativo, alimentacion, saludable, ...</td>\n",
       "      <td>consultorios mayor integracion a poblacion mig...</td>\n",
       "      <td>[consultorios, mayor, integracion, poblacion, ...</td>\n",
       "      <td>consultorios</td>\n",
       "      <td>0</td>\n",
       "      <td>False</td>\n",
       "    </tr>\n",
       "  </tbody>\n",
       "</table>\n",
       "</div>"
      ],
      "text/plain": [
       "        id                    diag_id ind_id   name name_tokens  macro  \\\n",
       "1876  1877  enc_u_4549115135187566849         salud     [salud]  salud   \n",
       "\n",
       "                                                    exp  \\\n",
       "1876  - acceso equitativo\\n- alimentacion saludable\\...   \n",
       "\n",
       "                                             exp_tokens  \\\n",
       "1876  [acceso, equitativo, alimentacion, saludable, ...   \n",
       "\n",
       "                                                   role  \\\n",
       "1876  consultorios mayor integracion a poblacion mig...   \n",
       "\n",
       "                                            role_tokens         actor  \\\n",
       "1876  [consultorios, mayor, integracion, poblacion, ...  consultorios   \n",
       "\n",
       "      priority  is_online  \n",
       "1876         0      False  "
      ]
     },
     "execution_count": 23,
     "metadata": {},
     "output_type": "execute_result"
    }
   ],
   "source": [
    "country_needs_table.sample(1)"
   ]
  },
  {
   "cell_type": "markdown",
   "metadata": {},
   "source": [
    "Debemos recalcular los pares de palabras en caso de que algo haya cambiado, en este caso tenemos dos tablas: exp y role"
   ]
  },
  {
   "cell_type": "code",
   "execution_count": 24,
   "metadata": {},
   "outputs": [],
   "source": [
    "country_needs_exp_pairs_table = create_pair_token(country_needs_table, 'exp_tokens', 'country_need_id')\n",
    "country_need_role_pair_table = create_pair_token(country_needs_table, 'role_tokens', 'country_need_id')"
   ]
  },
  {
   "cell_type": "markdown",
   "metadata": {},
   "source": [
    "guardamos/reemplazamos la nueva tabla de pares y finalmente los nuevos .sql"
   ]
  },
  {
   "cell_type": "code",
   "execution_count": 25,
   "metadata": {},
   "outputs": [],
   "source": [
    "country_needs_exp_pairs_table.to_csv('./db/CSV/country_needs_exp_pairs.csv', index=False)\n",
    "country_need_role_pair_table.to_csv('./db/CSV/country_needs_role_pairs.csv', index=False)\n",
    "count_need_to_sql(country_needs_table, './db/SQL_INSERT/country_needs.sql')"
   ]
  }
 ],
 "metadata": {
  "kernelspec": {
   "display_name": "Python 3",
   "language": "python",
   "name": "python3"
  },
  "language_info": {
   "codemirror_mode": {
    "name": "ipython",
    "version": 3
   },
   "file_extension": ".py",
   "mimetype": "text/x-python",
   "name": "python",
   "nbconvert_exporter": "python",
   "pygments_lexer": "ipython3",
   "version": "3.7.6"
  }
 },
 "nbformat": 4,
 "nbformat_minor": 4
}
