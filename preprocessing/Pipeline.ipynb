{
 "cells": [
  {
   "cell_type": "markdown",
   "metadata": {},
   "source": [
    "# Data cleaning "
   ]
  },
  {
   "cell_type": "code",
   "execution_count": 1,
   "metadata": {},
   "outputs": [],
   "source": [
    "import pandas as pd\n",
    "import os\n",
    "\n",
    "import numpy as np"
   ]
  },
  {
   "cell_type": "code",
   "execution_count": 2,
   "metadata": {},
   "outputs": [
    {
     "name": "stderr",
     "output_type": "stream",
     "text": [
      "[nltk_data] Downloading package stopwords to /home/jovyan/nltk_data...\n",
      "[nltk_data]   Package stopwords is already up-to-date!\n"
     ]
    }
   ],
   "source": [
    "from use_cases.contributions import create_table_contributions, to_sql as con_to_sql\n",
    "# \n",
    "from use_cases.emotions import create_table_emotions, to_sql as emo_to_sql \n",
    "from use_cases.personal_needs import create_table_personal_needs, to_sql as per_need_to_sql\n",
    "from use_cases.dialogues import create_table_dialogues\n",
    "from use_cases.country_needs import create_table_country_needs, to_sql as count_need_to_sql\n",
    "from use_cases.persons import create_table_persons\n",
    "from use_cases.individuals import create_table_individuals\n",
    "from use_cases.pairs import create_pair_token\n",
    "from use_cases.persons_dialogues import create_table_persons_dialogues\n",
    "\n",
    "import use_cases.utils.textools as tt\n",
    "\n",
    "\n",
    "pd.options.mode.chained_assignment = None \n",
    "\n",
    "%load_ext autoreload\n",
    "%autoreload 2"
   ]
  },
  {
   "cell_type": "markdown",
   "metadata": {},
   "source": [
    "## Loading Data Surveys"
   ]
  },
  {
   "cell_type": "code",
   "execution_count": 3,
   "metadata": {},
   "outputs": [],
   "source": [
    "# chunksize   = 100 # Just for debugging\n",
    "# survey_path = './data/BBDD_Dialogos.csv' #  chunksize=chunksize,\n",
    "# survey = pd.read_csv(survey_path, low_memory=False)\n",
    "# for survey in survey: break\n",
    "\n",
    "survey_path = './data/BBDD_Dialogos.xlsx'\n",
    "survey = pd.read_excel(survey_path, 'Hoja1')\n",
    "\n",
    "filter_dialogue = pd.read_excel(survey_path, 'Filtro Diálogos')\n",
    "filter_person = pd.read_excel(survey_path, 'Filtro Personas')\n",
    "\n",
    "ind_online_survey_path = './data/Consulta_Individual_online_v2.xlsx'\n",
    "ind_online_survey = pd.read_excel(ind_online_survey_path, 'Sheet1')\n",
    "    \n",
    "ind_survey_path = './data/Base_final_digitación_Consultas.xlsx'\n",
    "ind_survey = pd.read_excel(ind_survey_path, 'CONSULTAS')\n",
    "\n",
    "filter_individual_path = './data/Filtro_individuales.xlsx'\n",
    "filter_digitilized_individual = pd.read_excel(filter_individual_path, 'Hoja1')"
   ]
  },
  {
   "cell_type": "markdown",
   "metadata": {},
   "source": [
    "## Processing Uses Cases\n",
    "1. Emotions \n",
    "2. Contributions\n",
    "3. Country needs \n",
    "4. Personal/familiar needs"
   ]
  },
  {
   "cell_type": "markdown",
   "metadata": {},
   "source": [
    "### Persons Table (Dialogue)"
   ]
  },
  {
   "cell_type": "code",
   "execution_count": 223,
   "metadata": {},
   "outputs": [
    {
     "name": "stdout",
     "output_type": "stream",
     "text": [
      "CPU times: user 3min 28s, sys: 809 ms, total: 3min 28s\n",
      "Wall time: 3min 29s\n"
     ]
    }
   ],
   "source": [
    "%%time\n",
    "persons_table = create_table_persons(survey)"
   ]
  },
  {
   "cell_type": "code",
   "execution_count": 233,
   "metadata": {},
   "outputs": [
    {
     "data": {
      "text/html": [
       "<div>\n",
       "<style scoped>\n",
       "    .dataframe tbody tr th:only-of-type {\n",
       "        vertical-align: middle;\n",
       "    }\n",
       "\n",
       "    .dataframe tbody tr th {\n",
       "        vertical-align: top;\n",
       "    }\n",
       "\n",
       "    .dataframe thead th {\n",
       "        text-align: right;\n",
       "    }\n",
       "</style>\n",
       "<table border=\"1\" class=\"dataframe\">\n",
       "  <thead>\n",
       "    <tr style=\"text-align: right;\">\n",
       "      <th></th>\n",
       "      <th>id</th>\n",
       "      <th>age</th>\n",
       "      <th>sex</th>\n",
       "      <th>level</th>\n",
       "      <th>comuna_id</th>\n",
       "      <th>age_range</th>\n",
       "    </tr>\n",
       "  </thead>\n",
       "  <tbody>\n",
       "    <tr>\n",
       "      <th>6459</th>\n",
       "      <td>vp/tbtxqcfvf</td>\n",
       "      <td>51</td>\n",
       "      <td>h</td>\n",
       "      <td>Técnica completa</td>\n",
       "      <td>4301</td>\n",
       "      <td>50 a 59</td>\n",
       "    </tr>\n",
       "  </tbody>\n",
       "</table>\n",
       "</div>"
      ],
      "text/plain": [
       "                id age sex             level  comuna_id age_range\n",
       "6459  vp/tbtxqcfvf  51   h  Técnica completa       4301   50 a 59"
      ]
     },
     "execution_count": 233,
     "metadata": {},
     "output_type": "execute_result"
    }
   ],
   "source": [
    "persons_table.sample()"
   ]
  },
  {
   "cell_type": "markdown",
   "metadata": {},
   "source": [
    "Ahora chequearemos las tablas, este proceso se aplica a todas las tablas que se están procesando. Lo que hace es revisar si es que hay alguna id nula o si hay algún dato nulo (nr, NR, NaN, nan y np.nan en alguna parte de los datos (esto produce ruido al procesar, el vacio se definió como texto vacio.\n",
    "\n",
    "La función retorna como dataframe con las filas con problemas, si retorna dataframe vacio entonces está correcto."
   ]
  },
  {
   "cell_type": "code",
   "execution_count": 225,
   "metadata": {},
   "outputs": [
    {
     "data": {
      "text/plain": [
       "(Empty DataFrame\n",
       " Columns: [id, diag_id, age, sex, level, comuna_id, age_range]\n",
       " Index: [],\n",
       " [],\n",
       " Empty DataFrame\n",
       " Columns: [id, diag_id, age, sex, level, comuna_id, age_range]\n",
       " Index: [])"
      ]
     },
     "execution_count": 225,
     "metadata": {},
     "output_type": "execute_result"
    }
   ],
   "source": [
    "tt.last_sanity_check(persons_table, 'id')"
   ]
  },
  {
   "cell_type": "markdown",
   "metadata": {},
   "source": [
    "### Dialogues"
   ]
  },
  {
   "cell_type": "code",
   "execution_count": 226,
   "metadata": {},
   "outputs": [
    {
     "name": "stdout",
     "output_type": "stream",
     "text": [
      "CPU times: user 2.83 s, sys: 16.2 ms, total: 2.84 s\n",
      "Wall time: 2.85 s\n"
     ]
    }
   ],
   "source": [
    "%%time\n",
    "dialogues_table = create_table_dialogues(survey, filter_dialogue)"
   ]
  },
  {
   "cell_type": "code",
   "execution_count": 227,
   "metadata": {},
   "outputs": [
    {
     "data": {
      "text/html": [
       "<div>\n",
       "<style scoped>\n",
       "    .dataframe tbody tr th:only-of-type {\n",
       "        vertical-align: middle;\n",
       "    }\n",
       "\n",
       "    .dataframe tbody tr th {\n",
       "        vertical-align: top;\n",
       "    }\n",
       "\n",
       "    .dataframe thead th {\n",
       "        text-align: right;\n",
       "    }\n",
       "</style>\n",
       "<table border=\"1\" class=\"dataframe\">\n",
       "  <thead>\n",
       "    <tr style=\"text-align: right;\">\n",
       "      <th></th>\n",
       "      <th>id</th>\n",
       "      <th>date</th>\n",
       "      <th>init_time</th>\n",
       "      <th>end_time</th>\n",
       "      <th>location</th>\n",
       "      <th>address</th>\n",
       "      <th>comuna_id</th>\n",
       "      <th>n_members</th>\n",
       "      <th>group_name</th>\n",
       "      <th>valid</th>\n",
       "    </tr>\n",
       "  </thead>\n",
       "  <tbody>\n",
       "    <tr>\n",
       "      <th>8539</th>\n",
       "      <td>enc_u_2823536</td>\n",
       "      <td>2020-01-14 00:00:00</td>\n",
       "      <td>17:35:00</td>\n",
       "      <td>19:05:00</td>\n",
       "      <td>caleta punta arenas</td>\n",
       "      <td>sede caleta pta arenas s/n</td>\n",
       "      <td>2301</td>\n",
       "      <td>5</td>\n",
       "      <td>usuarios de oficina movil de bienes nacionales</td>\n",
       "      <td>True</td>\n",
       "    </tr>\n",
       "    <tr>\n",
       "      <th>5173</th>\n",
       "      <td>enc_u_4563064441809607788</td>\n",
       "      <td>2020-01-25 00:00:00</td>\n",
       "      <td>20:00:00</td>\n",
       "      <td>22:00:00</td>\n",
       "      <td>casa particular</td>\n",
       "      <td>latorre 824</td>\n",
       "      <td>15101</td>\n",
       "      <td>4</td>\n",
       "      <td>usuarios de oficina movil de bienes nacionales</td>\n",
       "      <td>True</td>\n",
       "    </tr>\n",
       "  </tbody>\n",
       "</table>\n",
       "</div>"
      ],
      "text/plain": [
       "                             id                 date init_time  end_time  \\\n",
       "8539              enc_u_2823536  2020-01-14 00:00:00  17:35:00  19:05:00   \n",
       "5173  enc_u_4563064441809607788  2020-01-25 00:00:00  20:00:00  22:00:00   \n",
       "\n",
       "                 location                     address  comuna_id n_members  \\\n",
       "8539  caleta punta arenas  sede caleta pta arenas s/n       2301         5   \n",
       "5173      casa particular                 latorre 824      15101         4   \n",
       "\n",
       "                                          group_name  valid  \n",
       "8539  usuarios de oficina movil de bienes nacionales   True  \n",
       "5173  usuarios de oficina movil de bienes nacionales   True  "
      ]
     },
     "execution_count": 227,
     "metadata": {},
     "output_type": "execute_result"
    }
   ],
   "source": [
    "dialogues_table.sample(2)"
   ]
  },
  {
   "cell_type": "code",
   "execution_count": 228,
   "metadata": {},
   "outputs": [
    {
     "data": {
      "text/plain": [
       "(Empty DataFrame\n",
       " Columns: [id, date, init_time, end_time, location, address, comuna_id, n_members, group_name, valid]\n",
       " Index: [],\n",
       " [],\n",
       " Empty DataFrame\n",
       " Columns: [id, date, init_time, end_time, location, address, comuna_id, n_members, group_name, valid]\n",
       " Index: [])"
      ]
     },
     "execution_count": 228,
     "metadata": {},
     "output_type": "execute_result"
    }
   ],
   "source": [
    "tt.last_sanity_check(dialogues_table, 'id')"
   ]
  },
  {
   "cell_type": "markdown",
   "metadata": {},
   "source": [
    "### Persons Dialogues"
   ]
  },
  {
   "cell_type": "code",
   "execution_count": 229,
   "metadata": {
    "scrolled": true
   },
   "outputs": [
    {
     "name": "stdout",
     "output_type": "stream",
     "text": [
      "CPU times: user 82.7 ms, sys: 0 ns, total: 82.7 ms\n",
      "Wall time: 81 ms\n"
     ]
    }
   ],
   "source": [
    "%%time\n",
    "persons_table, persons_dialogues_table = create_table_persons_dialogues(persons_table)"
   ]
  },
  {
   "cell_type": "code",
   "execution_count": 230,
   "metadata": {},
   "outputs": [
    {
     "data": {
      "text/html": [
       "<div>\n",
       "<style scoped>\n",
       "    .dataframe tbody tr th:only-of-type {\n",
       "        vertical-align: middle;\n",
       "    }\n",
       "\n",
       "    .dataframe tbody tr th {\n",
       "        vertical-align: top;\n",
       "    }\n",
       "\n",
       "    .dataframe thead th {\n",
       "        text-align: right;\n",
       "    }\n",
       "</style>\n",
       "<table border=\"1\" class=\"dataframe\">\n",
       "  <thead>\n",
       "    <tr style=\"text-align: right;\">\n",
       "      <th></th>\n",
       "      <th>person_id</th>\n",
       "      <th>diag_id</th>\n",
       "    </tr>\n",
       "  </thead>\n",
       "  <tbody>\n",
       "    <tr>\n",
       "      <th>1411</th>\n",
       "      <td>vjls10r/2vhy</td>\n",
       "      <td>enc_u_4555076830717464193</td>\n",
       "    </tr>\n",
       "    <tr>\n",
       "      <th>3771</th>\n",
       "      <td>es11fov4jckv</td>\n",
       "      <td>enc_u_4549112060755676119</td>\n",
       "    </tr>\n",
       "  </tbody>\n",
       "</table>\n",
       "</div>"
      ],
      "text/plain": [
       "         person_id                    diag_id\n",
       "1411  vjls10r/2vhy  enc_u_4555076830717464193\n",
       "3771  es11fov4jckv  enc_u_4549112060755676119"
      ]
     },
     "execution_count": 230,
     "metadata": {},
     "output_type": "execute_result"
    }
   ],
   "source": [
    "persons_dialogues_table.sample(2)"
   ]
  },
  {
   "cell_type": "code",
   "execution_count": 231,
   "metadata": {},
   "outputs": [
    {
     "data": {
      "text/plain": [
       "(Empty DataFrame\n",
       " Columns: [person_id, diag_id]\n",
       " Index: [],\n",
       " Empty DataFrame\n",
       " Columns: [person_id, diag_id]\n",
       " Index: [],\n",
       " Empty DataFrame\n",
       " Columns: [person_id, diag_id]\n",
       " Index: [])"
      ]
     },
     "execution_count": 231,
     "metadata": {},
     "output_type": "execute_result"
    }
   ],
   "source": [
    "tt.last_sanity_check(persons_dialogues_table, 'person_id', ['person_id','diag_id'])"
   ]
  },
  {
   "cell_type": "markdown",
   "metadata": {},
   "source": [
    "### Individuals"
   ]
  },
  {
   "cell_type": "code",
   "execution_count": 4,
   "metadata": {
    "scrolled": true
   },
   "outputs": [
    {
     "name": "stdout",
     "output_type": "stream",
     "text": [
      "CPU times: user 12.9 s, sys: 44.4 ms, total: 13 s\n",
      "Wall time: 13 s\n"
     ]
    }
   ],
   "source": [
    "%%time\n",
    "individuals_table = create_table_individuals(ind_online_survey, ind_survey, filter_digitilized_individual)"
   ]
  },
  {
   "cell_type": "code",
   "execution_count": 6,
   "metadata": {},
   "outputs": [
    {
     "data": {
      "text/html": [
       "<div>\n",
       "<style scoped>\n",
       "    .dataframe tbody tr th:only-of-type {\n",
       "        vertical-align: middle;\n",
       "    }\n",
       "\n",
       "    .dataframe tbody tr th {\n",
       "        vertical-align: top;\n",
       "    }\n",
       "\n",
       "    .dataframe thead th {\n",
       "        text-align: right;\n",
       "    }\n",
       "</style>\n",
       "<table border=\"1\" class=\"dataframe\">\n",
       "  <thead>\n",
       "    <tr style=\"text-align: right;\">\n",
       "      <th></th>\n",
       "      <th>id</th>\n",
       "      <th>date</th>\n",
       "      <th>age</th>\n",
       "      <th>comuna_id</th>\n",
       "      <th>level</th>\n",
       "      <th>is_valid</th>\n",
       "      <th>age_range</th>\n",
       "      <th>online</th>\n",
       "    </tr>\n",
       "  </thead>\n",
       "  <tbody>\n",
       "    <tr>\n",
       "      <th>2095</th>\n",
       "      <td>3089227</td>\n",
       "      <td>17-01-2020</td>\n",
       "      <td>95</td>\n",
       "      <td>4201</td>\n",
       "      <td>MedInc</td>\n",
       "      <td>True</td>\n",
       "      <td>70 o más</td>\n",
       "      <td>False</td>\n",
       "    </tr>\n",
       "    <tr>\n",
       "      <th>11966</th>\n",
       "      <td>5838800</td>\n",
       "      <td>06-03-2020</td>\n",
       "      <td>68</td>\n",
       "      <td>6111</td>\n",
       "      <td>MedComp/TecInc</td>\n",
       "      <td>True</td>\n",
       "      <td>60 a 69</td>\n",
       "      <td>False</td>\n",
       "    </tr>\n",
       "  </tbody>\n",
       "</table>\n",
       "</div>"
      ],
      "text/plain": [
       "            id        date age  comuna_id           level  is_valid age_range  \\\n",
       "2095   3089227  17-01-2020  95       4201          MedInc      True  70 o más   \n",
       "11966  5838800  06-03-2020  68       6111  MedComp/TecInc      True   60 a 69   \n",
       "\n",
       "       online  \n",
       "2095    False  \n",
       "11966   False  "
      ]
     },
     "execution_count": 6,
     "metadata": {},
     "output_type": "execute_result"
    }
   ],
   "source": [
    "individuals_table.sample(2)"
   ]
  },
  {
   "cell_type": "code",
   "execution_count": 10,
   "metadata": {},
   "outputs": [
    {
     "data": {
      "text/plain": [
       "(Empty DataFrame\n",
       " Columns: [id, date, age, comuna_id, level, is_valid, age_range, online]\n",
       " Index: [],\n",
       " [],\n",
       " Empty DataFrame\n",
       " Columns: [id, date, age, comuna_id, level, is_valid, age_range, online]\n",
       " Index: [])"
      ]
     },
     "execution_count": 10,
     "metadata": {},
     "output_type": "execute_result"
    }
   ],
   "source": [
    "tt.last_sanity_check(individuals_table,'id')"
   ]
  },
  {
   "cell_type": "markdown",
   "metadata": {},
   "source": [
    "### Emotions"
   ]
  },
  {
   "cell_type": "code",
   "execution_count": 241,
   "metadata": {},
   "outputs": [
    {
     "name": "stdout",
     "output_type": "stream",
     "text": [
      "CPU times: user 2min 59s, sys: 16 s, total: 3min 15s\n",
      "Wall time: 3min 16s\n"
     ]
    }
   ],
   "source": [
    "%%time\n",
    "emotions_table = create_table_emotions(survey, ind_survey_path, ind_online_survey)"
   ]
  },
  {
   "cell_type": "code",
   "execution_count": 242,
   "metadata": {},
   "outputs": [
    {
     "data": {
      "text/html": [
       "<div>\n",
       "<style scoped>\n",
       "    .dataframe tbody tr th:only-of-type {\n",
       "        vertical-align: middle;\n",
       "    }\n",
       "\n",
       "    .dataframe tbody tr th {\n",
       "        vertical-align: top;\n",
       "    }\n",
       "\n",
       "    .dataframe thead th {\n",
       "        text-align: right;\n",
       "    }\n",
       "</style>\n",
       "<table border=\"1\" class=\"dataframe\">\n",
       "  <thead>\n",
       "    <tr style=\"text-align: right;\">\n",
       "      <th></th>\n",
       "      <th>id</th>\n",
       "      <th>diag_id</th>\n",
       "      <th>ind_id</th>\n",
       "      <th>name</th>\n",
       "      <th>name_tokens</th>\n",
       "      <th>macro</th>\n",
       "      <th>exp</th>\n",
       "      <th>exp_tokens</th>\n",
       "      <th>is_online</th>\n",
       "    </tr>\n",
       "  </thead>\n",
       "  <tbody>\n",
       "    <tr>\n",
       "      <th>3543</th>\n",
       "      <td>3519</td>\n",
       "      <td>enc_u_4544993731029250973</td>\n",
       "      <td></td>\n",
       "      <td>inseguridad</td>\n",
       "      <td>[inseguridad]</td>\n",
       "      <td>inseguridad</td>\n",
       "      <td>se observa en el control del orden publico</td>\n",
       "      <td>[observa, control, orden, publico]</td>\n",
       "      <td>True</td>\n",
       "    </tr>\n",
       "    <tr>\n",
       "      <th>7500</th>\n",
       "      <td>32761</td>\n",
       "      <td>enc_u_4553455014962674487</td>\n",
       "      <td></td>\n",
       "      <td>trabajo</td>\n",
       "      <td>[trabajo]</td>\n",
       "      <td>trabajo</td>\n",
       "      <td>mas trabajo y mayor mano de obra chilena</td>\n",
       "      <td>[mas, trabajo, mayor, mano, obra, chilena]</td>\n",
       "      <td>True</td>\n",
       "    </tr>\n",
       "  </tbody>\n",
       "</table>\n",
       "</div>"
      ],
      "text/plain": [
       "         id                    diag_id ind_id         name    name_tokens  \\\n",
       "3543   3519  enc_u_4544993731029250973         inseguridad  [inseguridad]   \n",
       "7500  32761  enc_u_4553455014962674487             trabajo      [trabajo]   \n",
       "\n",
       "            macro                                          exp  \\\n",
       "3543  inseguridad  se observa en el control del orden publico    \n",
       "7500      trabajo     mas trabajo y mayor mano de obra chilena   \n",
       "\n",
       "                                      exp_tokens  is_online  \n",
       "3543          [observa, control, orden, publico]       True  \n",
       "7500  [mas, trabajo, mayor, mano, obra, chilena]       True  "
      ]
     },
     "execution_count": 242,
     "metadata": {},
     "output_type": "execute_result"
    }
   ],
   "source": [
    "emotions_table.sample(2)"
   ]
  },
  {
   "cell_type": "code",
   "execution_count": 243,
   "metadata": {},
   "outputs": [
    {
     "name": "stderr",
     "output_type": "stream",
     "text": [
      "/opt/conda/lib/python3.7/site-packages/pandas/core/ops/array_ops.py:253: FutureWarning: elementwise comparison failed; returning scalar instead, but in the future will perform elementwise comparison\n",
      "  res_values = method(rvalues)\n"
     ]
    },
    {
     "data": {
      "text/plain": [
       "(Empty DataFrame\n",
       " Columns: [id, diag_id, ind_id, name, name_tokens, macro, exp, exp_tokens, is_online]\n",
       " Index: [],\n",
       " Empty DataFrame\n",
       " Columns: [id, diag_id, ind_id, name, name_tokens, macro, exp, exp_tokens, is_online]\n",
       " Index: [],\n",
       " Empty DataFrame\n",
       " Columns: [id, diag_id, ind_id, name, macro, exp, is_online]\n",
       " Index: [])"
      ]
     },
     "execution_count": 243,
     "metadata": {},
     "output_type": "execute_result"
    }
   ],
   "source": [
    "tt.last_sanity_check(emotions_table, 'id',['diag_id', 'ind_id'], ['name_tokens', 'exp_tokens'])"
   ]
  },
  {
   "cell_type": "markdown",
   "metadata": {},
   "source": [
    "### Emotion Pair"
   ]
  },
  {
   "cell_type": "code",
   "execution_count": 244,
   "metadata": {},
   "outputs": [
    {
     "name": "stdout",
     "output_type": "stream",
     "text": [
      "CPU times: user 14.5 s, sys: 92.2 ms, total: 14.6 s\n",
      "Wall time: 14.6 s\n"
     ]
    }
   ],
   "source": [
    "%%time\n",
    "emotion_pair = create_pair_token(emotions_table, 'exp_tokens', 'emotion_id')"
   ]
  },
  {
   "cell_type": "code",
   "execution_count": 245,
   "metadata": {},
   "outputs": [
    {
     "data": {
      "text/html": [
       "<div>\n",
       "<style scoped>\n",
       "    .dataframe tbody tr th:only-of-type {\n",
       "        vertical-align: middle;\n",
       "    }\n",
       "\n",
       "    .dataframe tbody tr th {\n",
       "        vertical-align: top;\n",
       "    }\n",
       "\n",
       "    .dataframe thead th {\n",
       "        text-align: right;\n",
       "    }\n",
       "</style>\n",
       "<table border=\"1\" class=\"dataframe\">\n",
       "  <thead>\n",
       "    <tr style=\"text-align: right;\">\n",
       "      <th></th>\n",
       "      <th>id</th>\n",
       "      <th>emotion_id</th>\n",
       "      <th>word_1</th>\n",
       "      <th>word_2</th>\n",
       "    </tr>\n",
       "  </thead>\n",
       "  <tbody>\n",
       "    <tr>\n",
       "      <th>37017</th>\n",
       "      <td>37018</td>\n",
       "      <td>6733</td>\n",
       "      <td>cuenta</td>\n",
       "      <td>pasando</td>\n",
       "    </tr>\n",
       "    <tr>\n",
       "      <th>91645</th>\n",
       "      <td>91646</td>\n",
       "      <td>16324</td>\n",
       "      <td>vandalismo</td>\n",
       "      <td>muchas</td>\n",
       "    </tr>\n",
       "    <tr>\n",
       "      <th>14418</th>\n",
       "      <td>14419</td>\n",
       "      <td>2547</td>\n",
       "      <td>terminar</td>\n",
       "      <td>estallido</td>\n",
       "    </tr>\n",
       "  </tbody>\n",
       "</table>\n",
       "</div>"
      ],
      "text/plain": [
       "          id  emotion_id      word_1     word_2\n",
       "37017  37018        6733      cuenta    pasando\n",
       "91645  91646       16324  vandalismo     muchas\n",
       "14418  14419        2547    terminar  estallido"
      ]
     },
     "execution_count": 245,
     "metadata": {},
     "output_type": "execute_result"
    }
   ],
   "source": [
    "emotion_pair.sample(3)"
   ]
  },
  {
   "cell_type": "markdown",
   "metadata": {},
   "source": [
    "### Country Needs"
   ]
  },
  {
   "cell_type": "code",
   "execution_count": 247,
   "metadata": {},
   "outputs": [
    {
     "name": "stdout",
     "output_type": "stream",
     "text": [
      "CPU times: user 5min 53s, sys: 27.6 s, total: 6min 21s\n",
      "Wall time: 6min 21s\n"
     ]
    }
   ],
   "source": [
    "%%time\n",
    "country_needs = create_table_country_needs(survey, ind_survey, ind_survey_path, ind_online_survey_path)"
   ]
  },
  {
   "cell_type": "code",
   "execution_count": 248,
   "metadata": {
    "scrolled": true
   },
   "outputs": [
    {
     "data": {
      "text/html": [
       "<div>\n",
       "<style scoped>\n",
       "    .dataframe tbody tr th:only-of-type {\n",
       "        vertical-align: middle;\n",
       "    }\n",
       "\n",
       "    .dataframe tbody tr th {\n",
       "        vertical-align: top;\n",
       "    }\n",
       "\n",
       "    .dataframe thead th {\n",
       "        text-align: right;\n",
       "    }\n",
       "</style>\n",
       "<table border=\"1\" class=\"dataframe\">\n",
       "  <thead>\n",
       "    <tr style=\"text-align: right;\">\n",
       "      <th></th>\n",
       "      <th>id</th>\n",
       "      <th>diag_id</th>\n",
       "      <th>ind_id</th>\n",
       "      <th>name</th>\n",
       "      <th>name_tokens</th>\n",
       "      <th>macro</th>\n",
       "      <th>exp</th>\n",
       "      <th>exp_tokens</th>\n",
       "      <th>role</th>\n",
       "      <th>role_tokens</th>\n",
       "      <th>actor</th>\n",
       "      <th>priority</th>\n",
       "      <th>is_online</th>\n",
       "    </tr>\n",
       "  </thead>\n",
       "  <tbody>\n",
       "    <tr>\n",
       "      <th>4857</th>\n",
       "      <td>99494</td>\n",
       "      <td></td>\n",
       "      <td>2728808</td>\n",
       "      <td>educacion</td>\n",
       "      <td>[educacion]</td>\n",
       "      <td></td>\n",
       "      <td></td>\n",
       "      <td></td>\n",
       "      <td>hay que deshacerse de la erronea vision que el...</td>\n",
       "      <td>[deshacerse, erronea, vision, enfasis, educaci...</td>\n",
       "      <td>toda la comunidad</td>\n",
       "      <td>1</td>\n",
       "      <td>False</td>\n",
       "    </tr>\n",
       "    <tr>\n",
       "      <th>7822</th>\n",
       "      <td>27508</td>\n",
       "      <td>enc_u_4556938160807774586</td>\n",
       "      <td></td>\n",
       "      <td>cambios de la clase politica</td>\n",
       "      <td>[cambios, clase, politica]</td>\n",
       "      <td></td>\n",
       "      <td>elecciones anticipadas de presidente y todo el...</td>\n",
       "      <td>[elecciones, anticipadas, presidente, congreso...</td>\n",
       "      <td></td>\n",
       "      <td></td>\n",
       "      <td></td>\n",
       "      <td>5</td>\n",
       "      <td>False</td>\n",
       "    </tr>\n",
       "  </tbody>\n",
       "</table>\n",
       "</div>"
      ],
      "text/plain": [
       "         id                    diag_id   ind_id                          name  \\\n",
       "4857  99494                             2728808                     educacion   \n",
       "7822  27508  enc_u_4556938160807774586           cambios de la clase politica   \n",
       "\n",
       "                     name_tokens macro  \\\n",
       "4857                 [educacion]         \n",
       "7822  [cambios, clase, politica]         \n",
       "\n",
       "                                                    exp  \\\n",
       "4857                                                      \n",
       "7822  elecciones anticipadas de presidente y todo el...   \n",
       "\n",
       "                                             exp_tokens  \\\n",
       "4857                                                      \n",
       "7822  [elecciones, anticipadas, presidente, congreso...   \n",
       "\n",
       "                                                   role  \\\n",
       "4857  hay que deshacerse de la erronea vision que el...   \n",
       "7822                                                      \n",
       "\n",
       "                                            role_tokens              actor  \\\n",
       "4857  [deshacerse, erronea, vision, enfasis, educaci...  toda la comunidad   \n",
       "7822                                                                         \n",
       "\n",
       "     priority  is_online  \n",
       "4857        1      False  \n",
       "7822        5      False  "
      ]
     },
     "execution_count": 248,
     "metadata": {},
     "output_type": "execute_result"
    }
   ],
   "source": [
    "country_needs.sample(2)"
   ]
  },
  {
   "cell_type": "code",
   "execution_count": 249,
   "metadata": {},
   "outputs": [
    {
     "name": "stderr",
     "output_type": "stream",
     "text": [
      "/opt/conda/lib/python3.7/site-packages/pandas/core/ops/array_ops.py:253: FutureWarning: elementwise comparison failed; returning scalar instead, but in the future will perform elementwise comparison\n",
      "  res_values = method(rvalues)\n"
     ]
    },
    {
     "data": {
      "text/plain": [
       "(Empty DataFrame\n",
       " Columns: [id, diag_id, ind_id, name, name_tokens, macro, exp, exp_tokens, role, role_tokens, actor, priority, is_online]\n",
       " Index: [],\n",
       " Empty DataFrame\n",
       " Columns: [id, diag_id, ind_id, name, name_tokens, macro, exp, exp_tokens, role, role_tokens, actor, priority, is_online]\n",
       " Index: [],\n",
       " Empty DataFrame\n",
       " Columns: [id, diag_id, ind_id, name, macro, exp, role, actor, priority, is_online]\n",
       " Index: [])"
      ]
     },
     "execution_count": 249,
     "metadata": {},
     "output_type": "execute_result"
    }
   ],
   "source": [
    "tt.last_sanity_check(country_needs, 'id',['diag_id', 'ind_id'], ['name_tokens', 'exp_tokens', 'role_tokens'])"
   ]
  },
  {
   "cell_type": "markdown",
   "metadata": {},
   "source": [
    "### Country Need Role Pair"
   ]
  },
  {
   "cell_type": "code",
   "execution_count": 250,
   "metadata": {},
   "outputs": [
    {
     "name": "stdout",
     "output_type": "stream",
     "text": [
      "CPU times: user 18.8 s, sys: 8.27 ms, total: 18.8 s\n",
      "Wall time: 18.9 s\n"
     ]
    }
   ],
   "source": [
    "%%time\n",
    "country_need_role_pair = create_pair_token(country_needs, 'role_tokens', 'country_need_id')"
   ]
  },
  {
   "cell_type": "code",
   "execution_count": 251,
   "metadata": {},
   "outputs": [
    {
     "data": {
      "text/html": [
       "<div>\n",
       "<style scoped>\n",
       "    .dataframe tbody tr th:only-of-type {\n",
       "        vertical-align: middle;\n",
       "    }\n",
       "\n",
       "    .dataframe tbody tr th {\n",
       "        vertical-align: top;\n",
       "    }\n",
       "\n",
       "    .dataframe thead th {\n",
       "        text-align: right;\n",
       "    }\n",
       "</style>\n",
       "<table border=\"1\" class=\"dataframe\">\n",
       "  <thead>\n",
       "    <tr style=\"text-align: right;\">\n",
       "      <th></th>\n",
       "      <th>id</th>\n",
       "      <th>country_need_id</th>\n",
       "      <th>word_1</th>\n",
       "      <th>word_2</th>\n",
       "    </tr>\n",
       "  </thead>\n",
       "  <tbody>\n",
       "    <tr>\n",
       "      <th>110197</th>\n",
       "      <td>110198</td>\n",
       "      <td>35532</td>\n",
       "      <td>debiles</td>\n",
       "      <td>mas</td>\n",
       "    </tr>\n",
       "    <tr>\n",
       "      <th>191268</th>\n",
       "      <td>191269</td>\n",
       "      <td>63352</td>\n",
       "      <td>elaborar</td>\n",
       "      <td>proceso</td>\n",
       "    </tr>\n",
       "  </tbody>\n",
       "</table>\n",
       "</div>"
      ],
      "text/plain": [
       "            id  country_need_id    word_1   word_2\n",
       "110197  110198            35532   debiles      mas\n",
       "191268  191269            63352  elaborar  proceso"
      ]
     },
     "execution_count": 251,
     "metadata": {},
     "output_type": "execute_result"
    }
   ],
   "source": [
    "country_need_role_pair.sample(2)"
   ]
  },
  {
   "cell_type": "markdown",
   "metadata": {},
   "source": [
    "### Country Need Explanation Pair"
   ]
  },
  {
   "cell_type": "code",
   "execution_count": 252,
   "metadata": {},
   "outputs": [
    {
     "name": "stdout",
     "output_type": "stream",
     "text": [
      "CPU times: user 20 s, sys: 48.4 ms, total: 20 s\n",
      "Wall time: 20.1 s\n"
     ]
    }
   ],
   "source": [
    "%%time\n",
    "country_need_exp_pair = create_pair_token(country_needs, 'exp_tokens', 'country_need_id')"
   ]
  },
  {
   "cell_type": "code",
   "execution_count": 253,
   "metadata": {},
   "outputs": [
    {
     "data": {
      "text/html": [
       "<div>\n",
       "<style scoped>\n",
       "    .dataframe tbody tr th:only-of-type {\n",
       "        vertical-align: middle;\n",
       "    }\n",
       "\n",
       "    .dataframe tbody tr th {\n",
       "        vertical-align: top;\n",
       "    }\n",
       "\n",
       "    .dataframe thead th {\n",
       "        text-align: right;\n",
       "    }\n",
       "</style>\n",
       "<table border=\"1\" class=\"dataframe\">\n",
       "  <thead>\n",
       "    <tr style=\"text-align: right;\">\n",
       "      <th></th>\n",
       "      <th>id</th>\n",
       "      <th>country_need_id</th>\n",
       "      <th>word_1</th>\n",
       "      <th>word_2</th>\n",
       "    </tr>\n",
       "  </thead>\n",
       "  <tbody>\n",
       "    <tr>\n",
       "      <th>201823</th>\n",
       "      <td>201824</td>\n",
       "      <td>44474</td>\n",
       "      <td>sistema</td>\n",
       "      <td>prevision</td>\n",
       "    </tr>\n",
       "    <tr>\n",
       "      <th>20464</th>\n",
       "      <td>20465</td>\n",
       "      <td>3018</td>\n",
       "      <td>garantizar</td>\n",
       "      <td>atencion</td>\n",
       "    </tr>\n",
       "  </tbody>\n",
       "</table>\n",
       "</div>"
      ],
      "text/plain": [
       "            id  country_need_id      word_1     word_2\n",
       "201823  201824            44474     sistema  prevision\n",
       "20464    20465             3018  garantizar   atencion"
      ]
     },
     "execution_count": 253,
     "metadata": {},
     "output_type": "execute_result"
    }
   ],
   "source": [
    "country_need_exp_pair.sample(2)"
   ]
  },
  {
   "cell_type": "markdown",
   "metadata": {},
   "source": [
    "### Family/Personal Needs"
   ]
  },
  {
   "cell_type": "code",
   "execution_count": 254,
   "metadata": {},
   "outputs": [
    {
     "name": "stdout",
     "output_type": "stream",
     "text": [
      "CPU times: user 3min 16s, sys: 18.4 s, total: 3min 35s\n",
      "Wall time: 3min 36s\n"
     ]
    }
   ],
   "source": [
    "%%time\n",
    "personal_needs = create_table_personal_needs(survey, ind_survey, ind_online_survey)"
   ]
  },
  {
   "cell_type": "code",
   "execution_count": 258,
   "metadata": {},
   "outputs": [
    {
     "data": {
      "text/html": [
       "<div>\n",
       "<style scoped>\n",
       "    .dataframe tbody tr th:only-of-type {\n",
       "        vertical-align: middle;\n",
       "    }\n",
       "\n",
       "    .dataframe tbody tr th {\n",
       "        vertical-align: top;\n",
       "    }\n",
       "\n",
       "    .dataframe thead th {\n",
       "        text-align: right;\n",
       "    }\n",
       "</style>\n",
       "<table border=\"1\" class=\"dataframe\">\n",
       "  <thead>\n",
       "    <tr style=\"text-align: right;\">\n",
       "      <th></th>\n",
       "      <th>id</th>\n",
       "      <th>diag_id</th>\n",
       "      <th>ind_id</th>\n",
       "      <th>name</th>\n",
       "      <th>name_tokens</th>\n",
       "      <th>exp</th>\n",
       "      <th>exp_tokens</th>\n",
       "      <th>macro</th>\n",
       "      <th>priority</th>\n",
       "      <th>is_online</th>\n",
       "    </tr>\n",
       "  </thead>\n",
       "  <tbody>\n",
       "    <tr>\n",
       "      <th>4388</th>\n",
       "      <td>16146</td>\n",
       "      <td>enc_u_4556195194809673278</td>\n",
       "      <td></td>\n",
       "      <td>salud</td>\n",
       "      <td>[salud]</td>\n",
       "      <td>hospital</td>\n",
       "      <td>[hospital]</td>\n",
       "      <td>salud</td>\n",
       "      <td>2</td>\n",
       "      <td>False</td>\n",
       "    </tr>\n",
       "    <tr>\n",
       "      <th>5687</th>\n",
       "      <td>17309</td>\n",
       "      <td>enc_u_4587251749157123009</td>\n",
       "      <td></td>\n",
       "      <td>endeudamiento para estudiar (cae)</td>\n",
       "      <td>[endeudamiento, estudiar, cae]</td>\n",
       "      <td>la mayoria de los nietos que estan en la univ...</td>\n",
       "      <td>[mayoria, nietos, estan, universidad, endeudan...</td>\n",
       "      <td>endeudamiento para estudiar (cae)</td>\n",
       "      <td>1</td>\n",
       "      <td>False</td>\n",
       "    </tr>\n",
       "    <tr>\n",
       "      <th>4812</th>\n",
       "      <td>28085</td>\n",
       "      <td>enc_u_4561146068508829205</td>\n",
       "      <td></td>\n",
       "      <td>salud\\nagua</td>\n",
       "      <td>[salud, agua]</td>\n",
       "      <td>mejor salud para la gente de campo y 3 era eda...</td>\n",
       "      <td>[mejor, salud, gente, campo, edad, poder, rega...</td>\n",
       "      <td>salud\\nagua</td>\n",
       "      <td>0</td>\n",
       "      <td>False</td>\n",
       "    </tr>\n",
       "  </tbody>\n",
       "</table>\n",
       "</div>"
      ],
      "text/plain": [
       "         id                    diag_id ind_id  \\\n",
       "4388  16146  enc_u_4556195194809673278          \n",
       "5687  17309  enc_u_4587251749157123009          \n",
       "4812  28085  enc_u_4561146068508829205          \n",
       "\n",
       "                                   name                     name_tokens  \\\n",
       "4388                              salud                         [salud]   \n",
       "5687  endeudamiento para estudiar (cae)  [endeudamiento, estudiar, cae]   \n",
       "4812                        salud\\nagua                   [salud, agua]   \n",
       "\n",
       "                                                    exp  \\\n",
       "4388                                           hospital   \n",
       "5687   la mayoria de los nietos que estan en la univ...   \n",
       "4812  mejor salud para la gente de campo y 3 era eda...   \n",
       "\n",
       "                                             exp_tokens  \\\n",
       "4388                                         [hospital]   \n",
       "5687  [mayoria, nietos, estan, universidad, endeudan...   \n",
       "4812  [mejor, salud, gente, campo, edad, poder, rega...   \n",
       "\n",
       "                                  macro  priority  is_online  \n",
       "4388                              salud         2      False  \n",
       "5687  endeudamiento para estudiar (cae)         1      False  \n",
       "4812                        salud\\nagua         0      False  "
      ]
     },
     "execution_count": 258,
     "metadata": {},
     "output_type": "execute_result"
    }
   ],
   "source": [
    "personal_needs.sample(3)"
   ]
  },
  {
   "cell_type": "code",
   "execution_count": 256,
   "metadata": {},
   "outputs": [
    {
     "name": "stderr",
     "output_type": "stream",
     "text": [
      "/opt/conda/lib/python3.7/site-packages/pandas/core/ops/array_ops.py:253: FutureWarning: elementwise comparison failed; returning scalar instead, but in the future will perform elementwise comparison\n",
      "  res_values = method(rvalues)\n"
     ]
    },
    {
     "data": {
      "text/plain": [
       "(Empty DataFrame\n",
       " Columns: [id, diag_id, ind_id, name, name_tokens, exp, exp_tokens, macro, priority, is_online]\n",
       " Index: [],\n",
       " Empty DataFrame\n",
       " Columns: [id, diag_id, ind_id, name, name_tokens, exp, exp_tokens, macro, priority, is_online]\n",
       " Index: [],\n",
       " Empty DataFrame\n",
       " Columns: [id, diag_id, ind_id, name, exp, macro, priority, is_online]\n",
       " Index: [])"
      ]
     },
     "execution_count": 256,
     "metadata": {},
     "output_type": "execute_result"
    }
   ],
   "source": [
    "tt.last_sanity_check(personal_needs, 'id',['diag_id', 'ind_id'], ['name_tokens', 'exp_tokens'])"
   ]
  },
  {
   "cell_type": "markdown",
   "metadata": {},
   "source": [
    "### Family/Personal Need Pair"
   ]
  },
  {
   "cell_type": "code",
   "execution_count": 257,
   "metadata": {},
   "outputs": [
    {
     "name": "stdout",
     "output_type": "stream",
     "text": [
      "CPU times: user 17.1 s, sys: 88.7 ms, total: 17.2 s\n",
      "Wall time: 17.2 s\n"
     ]
    }
   ],
   "source": [
    "%%time\n",
    "personal_need_pair = create_pair_token(personal_needs, 'exp_tokens', 'personal_need_id')"
   ]
  },
  {
   "cell_type": "code",
   "execution_count": 259,
   "metadata": {},
   "outputs": [
    {
     "data": {
      "text/html": [
       "<div>\n",
       "<style scoped>\n",
       "    .dataframe tbody tr th:only-of-type {\n",
       "        vertical-align: middle;\n",
       "    }\n",
       "\n",
       "    .dataframe tbody tr th {\n",
       "        vertical-align: top;\n",
       "    }\n",
       "\n",
       "    .dataframe thead th {\n",
       "        text-align: right;\n",
       "    }\n",
       "</style>\n",
       "<table border=\"1\" class=\"dataframe\">\n",
       "  <thead>\n",
       "    <tr style=\"text-align: right;\">\n",
       "      <th></th>\n",
       "      <th>id</th>\n",
       "      <th>personal_need_id</th>\n",
       "      <th>word_1</th>\n",
       "      <th>word_2</th>\n",
       "    </tr>\n",
       "  </thead>\n",
       "  <tbody>\n",
       "    <tr>\n",
       "      <th>347423</th>\n",
       "      <td>347424</td>\n",
       "      <td>59582</td>\n",
       "      <td>calidad</td>\n",
       "      <td>vida</td>\n",
       "    </tr>\n",
       "    <tr>\n",
       "      <th>282299</th>\n",
       "      <td>282300</td>\n",
       "      <td>46653</td>\n",
       "      <td>civica</td>\n",
       "      <td>sexual</td>\n",
       "    </tr>\n",
       "    <tr>\n",
       "      <th>160740</th>\n",
       "      <td>160741</td>\n",
       "      <td>25792</td>\n",
       "      <td>pocas</td>\n",
       "      <td>horas</td>\n",
       "    </tr>\n",
       "  </tbody>\n",
       "</table>\n",
       "</div>"
      ],
      "text/plain": [
       "            id  personal_need_id   word_1  word_2\n",
       "347423  347424             59582  calidad    vida\n",
       "282299  282300             46653   civica  sexual\n",
       "160740  160741             25792    pocas   horas"
      ]
     },
     "execution_count": 259,
     "metadata": {},
     "output_type": "execute_result"
    }
   ],
   "source": [
    "personal_need_pair.sample(3)"
   ]
  },
  {
   "cell_type": "markdown",
   "metadata": {},
   "source": [
    "### Contributions"
   ]
  },
  {
   "cell_type": "code",
   "execution_count": 260,
   "metadata": {},
   "outputs": [
    {
     "name": "stdout",
     "output_type": "stream",
     "text": [
      "CPU times: user 1min 20s, sys: 7.37 s, total: 1min 27s\n",
      "Wall time: 1min 28s\n"
     ]
    }
   ],
   "source": [
    "%%time\n",
    "contributions = create_table_contributions(survey, ind_survey, ind_online_survey)"
   ]
  },
  {
   "cell_type": "code",
   "execution_count": 261,
   "metadata": {},
   "outputs": [
    {
     "data": {
      "text/html": [
       "<div>\n",
       "<style scoped>\n",
       "    .dataframe tbody tr th:only-of-type {\n",
       "        vertical-align: middle;\n",
       "    }\n",
       "\n",
       "    .dataframe tbody tr th {\n",
       "        vertical-align: top;\n",
       "    }\n",
       "\n",
       "    .dataframe thead th {\n",
       "        text-align: right;\n",
       "    }\n",
       "</style>\n",
       "<table border=\"1\" class=\"dataframe\">\n",
       "  <thead>\n",
       "    <tr style=\"text-align: right;\">\n",
       "      <th></th>\n",
       "      <th>id</th>\n",
       "      <th>diag_id</th>\n",
       "      <th>ind_id</th>\n",
       "      <th>text</th>\n",
       "      <th>tokens</th>\n",
       "      <th>macro</th>\n",
       "      <th>is_online</th>\n",
       "    </tr>\n",
       "  </thead>\n",
       "  <tbody>\n",
       "    <tr>\n",
       "      <th>8483</th>\n",
       "      <td>75103</td>\n",
       "      <td></td>\n",
       "      <td>4195087</td>\n",
       "      <td>dando a conocer mi opinion</td>\n",
       "      <td>[dando, conocer, opinion]</td>\n",
       "      <td>dando a conocer mi opinion</td>\n",
       "      <td>False</td>\n",
       "    </tr>\n",
       "    <tr>\n",
       "      <th>10571</th>\n",
       "      <td>10571</td>\n",
       "      <td>enc_u_4559690460153952011</td>\n",
       "      <td></td>\n",
       "      <td>trabajando dia a dia</td>\n",
       "      <td>[trabajando, dia, dia]</td>\n",
       "      <td>trabajando dia a dia</td>\n",
       "      <td>False</td>\n",
       "    </tr>\n",
       "    <tr>\n",
       "      <th>8035</th>\n",
       "      <td>61331</td>\n",
       "      <td>enc_u_4561267516712062710</td>\n",
       "      <td></td>\n",
       "      <td>cuidar el medio ambiente y saber vivir en demo...</td>\n",
       "      <td>[cuidar, medio, ambiente, saber, vivir, democr...</td>\n",
       "      <td>cuidar el medio ambiente y saber vivir en demo...</td>\n",
       "      <td>False</td>\n",
       "    </tr>\n",
       "  </tbody>\n",
       "</table>\n",
       "</div>"
      ],
      "text/plain": [
       "          id                    diag_id   ind_id  \\\n",
       "8483   75103                             4195087   \n",
       "10571  10571  enc_u_4559690460153952011            \n",
       "8035   61331  enc_u_4561267516712062710            \n",
       "\n",
       "                                                    text  \\\n",
       "8483                          dando a conocer mi opinion   \n",
       "10571                              trabajando dia a dia    \n",
       "8035   cuidar el medio ambiente y saber vivir en demo...   \n",
       "\n",
       "                                                  tokens  \\\n",
       "8483                           [dando, conocer, opinion]   \n",
       "10571                             [trabajando, dia, dia]   \n",
       "8035   [cuidar, medio, ambiente, saber, vivir, democr...   \n",
       "\n",
       "                                                   macro  is_online  \n",
       "8483                          dando a conocer mi opinion      False  \n",
       "10571                              trabajando dia a dia       False  \n",
       "8035   cuidar el medio ambiente y saber vivir en demo...      False  "
      ]
     },
     "execution_count": 261,
     "metadata": {},
     "output_type": "execute_result"
    }
   ],
   "source": [
    "contributions.sample(3)"
   ]
  },
  {
   "cell_type": "code",
   "execution_count": 262,
   "metadata": {},
   "outputs": [
    {
     "name": "stderr",
     "output_type": "stream",
     "text": [
      "/opt/conda/lib/python3.7/site-packages/pandas/core/ops/array_ops.py:253: FutureWarning: elementwise comparison failed; returning scalar instead, but in the future will perform elementwise comparison\n",
      "  res_values = method(rvalues)\n"
     ]
    },
    {
     "data": {
      "text/plain": [
       "(Empty DataFrame\n",
       " Columns: [id, diag_id, ind_id, text, tokens, macro, is_online]\n",
       " Index: [],\n",
       " Empty DataFrame\n",
       " Columns: [id, diag_id, ind_id, text, tokens, macro, is_online]\n",
       " Index: [],\n",
       " Empty DataFrame\n",
       " Columns: [id, diag_id, ind_id, text, macro, is_online]\n",
       " Index: [])"
      ]
     },
     "execution_count": 262,
     "metadata": {},
     "output_type": "execute_result"
    }
   ],
   "source": [
    "tt.last_sanity_check(contributions, 'id',['diag_id', 'ind_id'], ['tokens'])"
   ]
  },
  {
   "cell_type": "markdown",
   "metadata": {},
   "source": [
    "## Saving `.csv`"
   ]
  },
  {
   "cell_type": "code",
   "execution_count": 8,
   "metadata": {},
   "outputs": [],
   "source": [
    "out_dir = './out'\n",
    "os.makedirs(out_dir, exist_ok=True)"
   ]
  },
  {
   "cell_type": "code",
   "execution_count": 264,
   "metadata": {},
   "outputs": [],
   "source": [
    "contributions.to_csv(os.path.join(out_dir, 'contributions.csv'), index=False)\n",
    "personal_need_pair.to_csv(os.path.join(out_dir, 'personal_needs_pairs.csv'), index=False)\n",
    "personal_needs.to_csv(os.path.join(out_dir, 'personal_needs.csv'), index=False)\n",
    "country_need_exp_pair.to_csv(os.path.join(out_dir, 'country_needs_exp_pairs.csv'), index=False)\n",
    "country_need_role_pair.to_csv(os.path.join(out_dir, 'country_needs_role_pairs.csv'), index=False)\n",
    "country_needs.to_csv(os.path.join(out_dir, 'country_needs.csv'), index=False)\n",
    "emotion_pair.to_csv(os.path.join(out_dir, 'emotion_pair.csv'), index=False)\n",
    "emotions_table.to_csv(os.path.join(out_dir, 'emotions.csv'), index=False)\n",
    "individuals_table.to_csv(os.path.join(out_dir, 'individuals.csv'), index=False)\n",
    "dialogues_table.to_csv(os.path.join(out_dir, 'dialogues.csv'), index=False)\n",
    "persons_table.to_csv(os.path.join(out_dir, 'persons.csv'), index=False)\n",
    "persons_dialogues_table.to_csv(os.path.join(out_dir, 'persons_dialogues.csv'), index=False)"
   ]
  },
  {
   "cell_type": "markdown",
   "metadata": {},
   "source": [
    "## Saving `.sql`"
   ]
  },
  {
   "cell_type": "code",
   "execution_count": 265,
   "metadata": {},
   "outputs": [],
   "source": [
    "con_to_sql(contributions,os.path.join(out_dir,'contributions.sql' ))\n",
    "emo_to_sql(emotions_table,os.path.join(out_dir,'emotions.sql' ))\n",
    "count_need_to_sql(country_needs,os.path.join(out_dir,'country_needs.sql' ))\n",
    "per_need_to_sql(personal_needs,os.path.join(out_dir,'personal_needs.sql' ))"
   ]
  },
  {
   "cell_type": "code",
   "execution_count": 36,
   "metadata": {},
   "outputs": [],
   "source": [
    "abreviation_dict = {\n",
    "    'Media incompleta (incluyendo Media Técnica).': 'MedInc',\n",
    "    'Básica completa': 'BasComp',\n",
    "    'Básica completa.': 'BasComp',\n",
    "    'Educación básica incompleta o inferior': 'BasInc',\n",
    "    'Universitaria incompleta. Técnica completa': 'UniInc/TecComp',\n",
    "    'Post Grado (Master, Doctor o equivalente)': 'Postg',\n",
    "    '28': '',\n",
    "    'Media completa. Técnica incompleta': 'MedComp/TecInc',\n",
    "    'Media completa. Técnica incompleta.': 'MedComp/TecInc',\n",
    "    'Universitaria completa.': 'UniComp',\n",
    "    'Universitaria completa': 'UniComp',\n",
    "    'Universitaria incompleta. Técnica completa.': 'UniInc/TecComp',\n",
    "    'Media incompleta (incluyendo Media Técnica)': 'MedInc',\n",
    "    'Educación básica incompleta o inferior.': 'BasInc',\n",
    "    'Técnica completa': 'TecComp'\n",
    "}\n",
    "\n",
    "individuals_table['level'] = individuals_table['level'].replace(abreviation_dict)"
   ]
  },
  {
   "cell_type": "code",
   "execution_count": 37,
   "metadata": {},
   "outputs": [],
   "source": [
    "individuals_table.to_csv(os.path.join(out_dir, 'individuals.csv'), index=False)"
   ]
  }
 ],
 "metadata": {
  "kernelspec": {
   "display_name": "Python 3",
   "language": "python",
   "name": "python3"
  },
  "language_info": {
   "codemirror_mode": {
    "name": "ipython",
    "version": 3
   },
   "file_extension": ".py",
   "mimetype": "text/x-python",
   "name": "python",
   "nbconvert_exporter": "python",
   "pygments_lexer": "ipython3",
   "version": "3.7.6"
  }
 },
 "nbformat": 4,
 "nbformat_minor": 4
}
