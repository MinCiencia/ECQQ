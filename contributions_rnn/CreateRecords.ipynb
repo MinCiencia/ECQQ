{
 "cells": [
  {
   "cell_type": "code",
   "execution_count": 22,
   "metadata": {},
   "outputs": [
    {
     "name": "stdout",
     "output_type": "stream",
     "text": [
      "The autoreload extension is already loaded. To reload it, use:\n",
      "  %reload_ext autoreload\n"
     ]
    }
   ],
   "source": [
    "import matplotlib.pyplot as plt\n",
    "import tensorflow as tf\n",
    "import pandas as pd\n",
    "import numpy as np\n",
    "\n",
    "\n",
    "from core.data import create_records, label_frame\n",
    "\n",
    "%load_ext autoreload\n",
    "%autoreload 2"
   ]
  },
  {
   "cell_type": "markdown",
   "metadata": {},
   "source": [
    "En este tutorial aprenderemos a crear `tf.records`; un formato de serializacion de archivos de tensorflow el cual, junto con `tf.Data` permite que el flujo de datos sea eficiente."
   ]
  },
  {
   "cell_type": "code",
   "execution_count": 27,
   "metadata": {},
   "outputs": [],
   "source": [
    "datapath = './data/contributions.csv'\n",
    "\n",
    "contributions = pd.read_csv(datapath)\n",
    "contributions = contributions.replace({'NaN':'', np.nan:'', 'nan':''})"
   ]
  },
  {
   "cell_type": "code",
   "execution_count": 28,
   "metadata": {},
   "outputs": [
    {
     "data": {
      "text/html": [
       "<div>\n",
       "<style scoped>\n",
       "    .dataframe tbody tr th:only-of-type {\n",
       "        vertical-align: middle;\n",
       "    }\n",
       "\n",
       "    .dataframe tbody tr th {\n",
       "        vertical-align: top;\n",
       "    }\n",
       "\n",
       "    .dataframe thead th {\n",
       "        text-align: right;\n",
       "    }\n",
       "</style>\n",
       "<table border=\"1\" class=\"dataframe\">\n",
       "  <thead>\n",
       "    <tr style=\"text-align: right;\">\n",
       "      <th></th>\n",
       "      <th>id</th>\n",
       "      <th>diag_id</th>\n",
       "      <th>ind_id</th>\n",
       "      <th>text</th>\n",
       "      <th>tokens</th>\n",
       "      <th>macro</th>\n",
       "      <th>is_online</th>\n",
       "    </tr>\n",
       "  </thead>\n",
       "  <tbody>\n",
       "    <tr>\n",
       "      <th>31892</th>\n",
       "      <td>34823</td>\n",
       "      <td>ENC_U_4562873419515573861</td>\n",
       "      <td></td>\n",
       "      <td>realizar la importancia de los adultos mayores</td>\n",
       "      <td>['realizar', 'importancia', 'adultos', 'mayores']</td>\n",
       "      <td>realizar la importancia de los adultos mayores</td>\n",
       "      <td>0</td>\n",
       "    </tr>\n",
       "    <tr>\n",
       "      <th>48398</th>\n",
       "      <td>56765</td>\n",
       "      <td>ENC_U_4614194000564179869</td>\n",
       "      <td></td>\n",
       "      <td>entregar valores y responsabilidad a los</td>\n",
       "      <td>['entregar', 'valores', 'responsabilidad']</td>\n",
       "      <td>entregar valores y responsabilidad a los</td>\n",
       "      <td>0</td>\n",
       "    </tr>\n",
       "  </tbody>\n",
       "</table>\n",
       "</div>"
      ],
      "text/plain": [
       "          id                    diag_id ind_id  \\\n",
       "31892  34823  ENC_U_4562873419515573861          \n",
       "48398  56765  ENC_U_4614194000564179869          \n",
       "\n",
       "                                                  text  \\\n",
       "31892  realizar la importancia de los adultos mayores    \n",
       "48398         entregar valores y responsabilidad a los   \n",
       "\n",
       "                                                  tokens  \\\n",
       "31892  ['realizar', 'importancia', 'adultos', 'mayores']   \n",
       "48398         ['entregar', 'valores', 'responsabilidad']   \n",
       "\n",
       "                                                 macro  is_online  \n",
       "31892  realizar la importancia de los adultos mayores           0  \n",
       "48398         entregar valores y responsabilidad a los          0  "
      ]
     },
     "execution_count": 28,
     "metadata": {},
     "output_type": "execute_result"
    }
   ],
   "source": [
    "contrib_uniques.sample(2)"
   ]
  },
  {
   "cell_type": "markdown",
   "metadata": {},
   "source": [
    "En el archivo `.csv` se encuentran todas las contribuciones asociadas a las encuestas de Dialogos e Individuales. En particular, nosotros trabajaremos con la columna de `text`.\n",
    "\n",
    "\n",
    "Luego cargamos las etiquetas (ver informe para mas detalles)"
   ]
  },
  {
   "cell_type": "code",
   "execution_count": 29,
   "metadata": {},
   "outputs": [
    {
     "data": {
      "text/html": [
       "<div>\n",
       "<style scoped>\n",
       "    .dataframe tbody tr th:only-of-type {\n",
       "        vertical-align: middle;\n",
       "    }\n",
       "\n",
       "    .dataframe tbody tr th {\n",
       "        vertical-align: top;\n",
       "    }\n",
       "\n",
       "    .dataframe thead th {\n",
       "        text-align: right;\n",
       "    }\n",
       "</style>\n",
       "<table border=\"1\" class=\"dataframe\">\n",
       "  <thead>\n",
       "    <tr style=\"text-align: right;\">\n",
       "      <th></th>\n",
       "      <th>text</th>\n",
       "      <th>tokens</th>\n",
       "      <th>label</th>\n",
       "    </tr>\n",
       "  </thead>\n",
       "  <tbody>\n",
       "    <tr>\n",
       "      <th>15424</th>\n",
       "      <td>a cuidar el medio ambiente</td>\n",
       "      <td>['cuidar', 'medio', 'ambiente']</td>\n",
       "      <td>Sustentabilidad Ambiental</td>\n",
       "    </tr>\n",
       "    <tr>\n",
       "      <th>7187</th>\n",
       "      <td>empatizar con los otros. unidad. necesitamos b...</td>\n",
       "      <td>['empatizar', 'unidad', 'necesitamos', 'buenos...</td>\n",
       "      <td>Reciprocidad-Redes</td>\n",
       "    </tr>\n",
       "  </tbody>\n",
       "</table>\n",
       "</div>"
      ],
      "text/plain": [
       "                                                    text  \\\n",
       "15424                         a cuidar el medio ambiente   \n",
       "7187   empatizar con los otros. unidad. necesitamos b...   \n",
       "\n",
       "                                                  tokens  \\\n",
       "15424                    ['cuidar', 'medio', 'ambiente']   \n",
       "7187   ['empatizar', 'unidad', 'necesitamos', 'buenos...   \n",
       "\n",
       "                           label  \n",
       "15424  Sustentabilidad Ambiental  \n",
       "7187          Reciprocidad-Redes  "
      ]
     },
     "execution_count": 29,
     "metadata": {},
     "output_type": "execute_result"
    }
   ],
   "source": [
    "labels = pd.read_csv('./data/contribution_labels.csv')\n",
    "labels.sample(2)"
   ]
  },
  {
   "cell_type": "markdown",
   "metadata": {},
   "source": [
    "y ocupas este frame para etiquetar la tabla completa "
   ]
  },
  {
   "cell_type": "code",
   "execution_count": 30,
   "metadata": {},
   "outputs": [
    {
     "name": "stdout",
     "output_type": "stream",
     "text": [
      "CPU times: user 4min 45s, sys: 15.7 ms, total: 4min 45s\n",
      "Wall time: 4min 45s\n"
     ]
    }
   ],
   "source": [
    "%%time\n",
    "cont = label_frame(contributions, labels)"
   ]
  },
  {
   "cell_type": "markdown",
   "metadata": {},
   "source": [
    "Para entrenar debemos eliminar los duplicados. Ademas solo debemos seleccionar las muestras que estan etiquetadas"
   ]
  },
  {
   "cell_type": "code",
   "execution_count": 31,
   "metadata": {},
   "outputs": [],
   "source": [
    "contrib_uniques = cont.drop_duplicates(subset='text')\n",
    "labeled_cont = contrib_uniques[contrib_uniques['label'] != '']"
   ]
  },
  {
   "cell_type": "code",
   "execution_count": 35,
   "metadata": {},
   "outputs": [
    {
     "name": "stdout",
     "output_type": "stream",
     "text": [
      "objetos etiquetados: 15402 (27.80%)\n"
     ]
    }
   ],
   "source": [
    "print('objetos etiquetados: {} ({:.2f}%)'.format(labeled_cont.shape[0], \n",
    "                                                 labeled_cont.shape[0]/contrib_uniques.shape[0]*100))"
   ]
  },
  {
   "cell_type": "markdown",
   "metadata": {},
   "source": [
    "Antes de ejecutar la funcion debemos cargar nuestro `embedding`. El `embedding` nos dara una representacion vectorial de las palabras. Puedes descargarlo [aqui](http://dcc.uchile.cl/~jperez/word-embeddings/fasttext-sbwc.bin) (4.3GB)"
   ]
  },
  {
   "cell_type": "code",
   "execution_count": 7,
   "metadata": {},
   "outputs": [],
   "source": [
    "from gensim.models.wrappers import FastText"
   ]
  },
  {
   "cell_type": "markdown",
   "metadata": {},
   "source": [
    "**WARNING: La operacion siguiente utiliza ~6gb de memoria**"
   ]
  },
  {
   "cell_type": "code",
   "execution_count": 8,
   "metadata": {},
   "outputs": [
    {
     "name": "stdout",
     "output_type": "stream",
     "text": [
      "CPU times: user 2min 17s, sys: 6.11 s, total: 2min 23s\n",
      "Wall time: 2min 23s\n"
     ]
    }
   ],
   "source": [
    "%%time\n",
    "wordvectors = FastText.load_fasttext_format('./data/fasttext-sbwc.bin')"
   ]
  },
  {
   "cell_type": "markdown",
   "metadata": {},
   "source": [
    "Utilizaremos 3 fold para evaluar nuestro modelo. Ademas debemos filtrar los ejemplos sin etiquetas, ya que estos no nos serviran para el entrenamiento."
   ]
  },
  {
   "cell_type": "code",
   "execution_count": 13,
   "metadata": {},
   "outputs": [],
   "source": []
  },
  {
   "cell_type": "code",
   "execution_count": 14,
   "metadata": {},
   "outputs": [
    {
     "name": "stdout",
     "output_type": "stream",
     "text": [
      "CPU times: user 2min 40s, sys: 712 ms, total: 2min 41s\n",
      "Wall time: 2min 41s\n"
     ]
    }
   ],
   "source": [
    "%%time\n",
    "for fold in range(3):\n",
    "    outdir = './out/records/fold_{}'.format(fold)\n",
    "    create_records(labeled_cont, wordvectors, outdir, train_ptg=0.5, val_ptg=0.5)"
   ]
  },
  {
   "cell_type": "markdown",
   "metadata": {},
   "source": [
    "## Cargando los Records"
   ]
  },
  {
   "cell_type": "code",
   "execution_count": 15,
   "metadata": {},
   "outputs": [],
   "source": [
    "from core.data import load_records"
   ]
  },
  {
   "cell_type": "code",
   "execution_count": 31,
   "metadata": {
    "scrolled": true
   },
   "outputs": [
    {
     "name": "stdout",
     "output_type": "stream",
     "text": [
      "WARNING:tensorflow:AutoGraph could not transform <function load_records.<locals>.<lambda> at 0x7fea71336c80> and will run it as-is.\n",
      "Cause: could not parse the source code of <function load_records.<locals>.<lambda> at 0x7fea71336c80>: no matching AST found\n",
      "To silence this warning, decorate the function with @tf.autograph.experimental.do_not_convert\n",
      "WARNING: AutoGraph could not transform <function load_records.<locals>.<lambda> at 0x7fea71336c80> and will run it as-is.\n",
      "Cause: could not parse the source code of <function load_records.<locals>.<lambda> at 0x7fea71336c80>: no matching AST found\n",
      "To silence this warning, decorate the function with @tf.autograph.experimental.do_not_convert\n"
     ]
    }
   ],
   "source": [
    "batches = load_records('./out/records/fold_0/test', batch_size=16, return_all=True)"
   ]
  },
  {
   "cell_type": "code",
   "execution_count": 32,
   "metadata": {},
   "outputs": [
    {
     "name": "stdout",
     "output_type": "stream",
     "text": [
      "(16, 13)\n"
     ]
    }
   ],
   "source": [
    "for b in batches:\n",
    "    print(b['label'].shape)\n",
    "    break"
   ]
  },
  {
   "cell_type": "markdown",
   "metadata": {},
   "source": [
    "## Guardando datos para predecir"
   ]
  },
  {
   "cell_type": "markdown",
   "metadata": {},
   "source": [
    "Utilizaremos `create_prediction_record`. Este metodo no guarda etiquetas y tampoco divide el conjunto de entrenamiento."
   ]
  },
  {
   "cell_type": "code",
   "execution_count": 38,
   "metadata": {},
   "outputs": [],
   "source": [
    "from core.data import create_prediction_record"
   ]
  },
  {
   "cell_type": "code",
   "execution_count": 39,
   "metadata": {},
   "outputs": [
    {
     "name": "stdout",
     "output_type": "stream",
     "text": [
      "CPU times: user 5min 30s, sys: 2.64 s, total: 5min 32s\n",
      "Wall time: 5min 32s\n"
     ]
    }
   ],
   "source": [
    "%%time\n",
    "create_prediction_record(cont, wordvectors, outdir = './out/records/')"
   ]
  },
  {
   "cell_type": "code",
   "execution_count": 40,
   "metadata": {},
   "outputs": [
    {
     "data": {
      "text/plain": [
       "(66701, 8)"
      ]
     },
     "execution_count": 40,
     "metadata": {},
     "output_type": "execute_result"
    }
   ],
   "source": [
    "cont.shape"
   ]
  },
  {
   "cell_type": "code",
   "execution_count": null,
   "metadata": {},
   "outputs": [],
   "source": []
  }
 ],
 "metadata": {
  "kernelspec": {
   "display_name": "Python 3",
   "language": "python",
   "name": "python3"
  },
  "language_info": {
   "codemirror_mode": {
    "name": "ipython",
    "version": 3
   },
   "file_extension": ".py",
   "mimetype": "text/x-python",
   "name": "python",
   "nbconvert_exporter": "python",
   "pygments_lexer": "ipython3",
   "version": "3.6.9"
  }
 },
 "nbformat": 4,
 "nbformat_minor": 2
}
