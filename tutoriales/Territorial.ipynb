{
 "cells": [
  {
   "cell_type": "markdown",
   "id": "e3256827",
   "metadata": {},
   "source": [
    "# TUTORIAL \n",
    "## Analisis Territorial"
   ]
  },
  {
   "cell_type": "code",
   "execution_count": 58,
   "id": "db03d43e",
   "metadata": {},
   "outputs": [],
   "source": [
    "import matplotlib.pyplot as plt \n",
    "import pandas as pd \n",
    "import numpy as np\n",
    "import difflib\n",
    "import os\n",
    "\n",
    "from unidecode import unidecode\n",
    "pd.options.mode.chained_assignment = None"
   ]
  },
  {
   "cell_type": "code",
   "execution_count": 59,
   "id": "6d26504d",
   "metadata": {},
   "outputs": [],
   "source": [
    "def to_unicode(column):\n",
    "    if isinstance(column, list):\n",
    "        column = pd.Series(column)\n",
    "        column = column.apply(lambda x: unidecode(str(x)).lower())\n",
    "        return column.values[0]\n",
    "    if isinstance(column, pd.Series):\n",
    "        column = column.apply(lambda x: unidecode(str(x)).lower())\n",
    "        return column\n",
    "    if isinstance(column, pd.DataFrame):\n",
    "        for c in column.columns:\n",
    "             column[c] = column[c].apply(lambda x: unidecode(str(x).lower()))\n",
    "        return column\n",
    "    if isinstance(column, str):\n",
    "        column = unidecode(column).lower()\n",
    "                  \n",
    "    return column"
   ]
  },
  {
   "cell_type": "markdown",
   "id": "1f3b18fe",
   "metadata": {},
   "source": [
    "Descarga aqui la base de datos en formato `.csv`. Una vez tengamos las tablas en nuestro directorio local, cargaremos la matriz de distancias desde la [Direccion de Vialidad](http://www.vialidad.cl/Biblioteca/ChileOct2018.7z)"
   ]
  },
  {
   "cell_type": "code",
   "execution_count": 60,
   "id": "5a7e5ced",
   "metadata": {},
   "outputs": [],
   "source": [
    "comunas  = pd.read_csv('./data/comunas.csv')\n",
    "# Saltamos las tres primeras filas porque estan vacias\n",
    "distancias = pd.read_excel('./data/Matriz-ChileOct2018.xlsx', skiprows=3)"
   ]
  },
  {
   "cell_type": "markdown",
   "id": "306bc551",
   "metadata": {},
   "source": [
    "Primero que todo, debemos mapear el nombre de las ciudades (desde la matriz de distancias) a su respectivo `comuna_id`."
   ]
  },
  {
   "cell_type": "code",
   "execution_count": 61,
   "id": "799dff14",
   "metadata": {},
   "outputs": [],
   "source": [
    "# Estandarizamos los nombres de las comunas\n",
    "distancias.columns = [x.strip() for x in distancias.columns]\n",
    "distancias['Distancias aproximadas por Chile'] = to_unicode(distancias['Distancias aproximadas por Chile'])\n",
    "distancias['Distancias aproximadas por Chile'] = [x.strip() for x in distancias['Distancias aproximadas por Chile']]"
   ]
  },
  {
   "cell_type": "markdown",
   "id": "5ee13463",
   "metadata": {},
   "source": [
    "Borramos espacio en blanco de cada columna"
   ]
  },
  {
   "cell_type": "code",
   "execution_count": 62,
   "id": "6dd9db36",
   "metadata": {
    "scrolled": false
   },
   "outputs": [],
   "source": [
    "dist_comuna_list = distancias['Distancias aproximadas por Chile'].values\n",
    "distancias_revised = []\n",
    "for i, x in comunas.iterrows():\n",
    "    match = difflib.get_close_matches(to_unicode(x['name']), dist_comuna_list, 1, 0.9)\n",
    "    try:\n",
    "        result = distancias[distancias['Distancias aproximadas por Chile'] == match[0]]\n",
    "        result['comuna_id'] = x['id']\n",
    "        distancias_revised.append(result)\n",
    "    except:\n",
    "        # NO hay informacion de distancias para esa comuna\n",
    "        continue"
   ]
  },
  {
   "cell_type": "markdown",
   "id": "59500597",
   "metadata": {},
   "source": [
    "En la funcion anterior utilizamos `difflib.get_close_matches()` con un 90% de similitud para evitar eliminar comunas que, teniendo el mismo nombre, fueron escritas de manera distinta "
   ]
  },
  {
   "cell_type": "code",
   "execution_count": 63,
   "id": "322340d0",
   "metadata": {},
   "outputs": [],
   "source": [
    "# eliminamos la primera columna i.e., la columna con el nombre de la comuna\n",
    "dist_enc = pd.concat(distancias_revised).iloc[:, 1:]"
   ]
  },
  {
   "cell_type": "markdown",
   "id": "e04b74f4",
   "metadata": {},
   "source": [
    "Guardamos el nuevo `.csv` para usos futuros"
   ]
  },
  {
   "cell_type": "code",
   "execution_count": 64,
   "id": "d2079892",
   "metadata": {},
   "outputs": [],
   "source": [
    "dist_enc.to_csv('./data/distancias_comunas.csv', index=False)"
   ]
  },
  {
   "cell_type": "markdown",
   "id": "dffa2436",
   "metadata": {},
   "source": [
    "Ahora tenemos nuestra matriz de distancias asociada al id de las comunas en nuestra base de datos."
   ]
  },
  {
   "cell_type": "markdown",
   "id": "c2f92f31",
   "metadata": {},
   "source": [
    "### K Vecinos mas cercanos  \n",
    "\n",
    "Para calcular los k-vecinos mas cercanos utilizaremos la matriz de distancia. En particular, filtraremos la comuna objetivo, luego ordenaremos las distancias hacia las otras ciudades desde menor a mayor. "
   ]
  },
  {
   "cell_type": "code",
   "execution_count": 65,
   "id": "aa43bccb",
   "metadata": {},
   "outputs": [],
   "source": [
    "def get_neighborhood(id_comuna, dist_matrix, K=3):\n",
    "    # Filtrar por id_comuna\n",
    "    singular_dist = dist_matrix[dist_matrix['comuna_id'] == id_comuna]\n",
    "    # Eliminar comunas sin distancia\n",
    "    singular_dist = singular_dist.dropna(axis=1)\n",
    "    # Extraemos solo las distancias (recordar que la ultima columna corresponde a comuna_id)\n",
    "    singular_dist = singular_dist.iloc[:,:-1]\n",
    "\n",
    "    distancias = singular_dist.values[0]\n",
    "    indices = np.argsort(distancias)\n",
    "    \n",
    "    closest = singular_dist.columns.values[indices][:K+1]\n",
    "    dist = distancias[indices][:K+1]\n",
    "    closest_id = [comunas[to_unicode(comunas['name']) == to_unicode(x)]['id'].values[0] for x in closest]\n",
    "    return closest, closest_id, dist"
   ]
  },
  {
   "cell_type": "markdown",
   "id": "fa0647c6",
   "metadata": {},
   "source": [
    "Como ejemplo utilizaremos `Lota`"
   ]
  },
  {
   "cell_type": "code",
   "execution_count": 66,
   "id": "a68b3011",
   "metadata": {},
   "outputs": [
    {
     "data": {
      "text/plain": [
       "8106"
      ]
     },
     "execution_count": 66,
     "metadata": {},
     "output_type": "execute_result"
    }
   ],
   "source": [
    "singular_id = comunas[comunas['name'] == 'Lota']['id'].values[0]\n",
    "singular_id"
   ]
  },
  {
   "cell_type": "code",
   "execution_count": 67,
   "id": "811fb5d8",
   "metadata": {},
   "outputs": [],
   "source": [
    "closest_nombres, closest_id, distancia = get_neighborhood(singular_id, dist_enc)"
   ]
  },
  {
   "cell_type": "markdown",
   "id": "9001e1d7",
   "metadata": {},
   "source": [
    "En nuestro esquema de base de datos, tenemos dos tablas principales: `dialogos.csv` y `individuals.csv` las cuales corresponden a las mesas de discusion y encuestas individuales respectivamente"
   ]
  },
  {
   "cell_type": "code",
   "execution_count": 68,
   "id": "0aec5906",
   "metadata": {},
   "outputs": [],
   "source": [
    "dialogos = pd.read_csv('./data/dialogues.csv')\n",
    "individuales = pd.read_csv('./data/individuals.csv')"
   ]
  },
  {
   "cell_type": "markdown",
   "id": "6eb4e1e2",
   "metadata": {},
   "source": [
    "Debemos extraer los `id` asociados a las **mesas de discusion** o **individuos** que se encuentren en la comuna objetivo. En este ejemplo utilizaremos las encuestas `individuales`"
   ]
  },
  {
   "cell_type": "code",
   "execution_count": 69,
   "id": "61af43e2",
   "metadata": {},
   "outputs": [
    {
     "data": {
      "text/html": [
       "<div>\n",
       "<style scoped>\n",
       "    .dataframe tbody tr th:only-of-type {\n",
       "        vertical-align: middle;\n",
       "    }\n",
       "\n",
       "    .dataframe tbody tr th {\n",
       "        vertical-align: top;\n",
       "    }\n",
       "\n",
       "    .dataframe thead th {\n",
       "        text-align: right;\n",
       "    }\n",
       "</style>\n",
       "<table border=\"1\" class=\"dataframe\">\n",
       "  <thead>\n",
       "    <tr style=\"text-align: right;\">\n",
       "      <th></th>\n",
       "      <th>id</th>\n",
       "      <th>date</th>\n",
       "      <th>age</th>\n",
       "      <th>comuna_id</th>\n",
       "      <th>level</th>\n",
       "      <th>age_range</th>\n",
       "      <th>online</th>\n",
       "    </tr>\n",
       "  </thead>\n",
       "  <tbody>\n",
       "    <tr>\n",
       "      <th>13212</th>\n",
       "      <td>b8a7bc5d4f27f4f099ad3c232ac3f6ba</td>\n",
       "      <td>29-11-2019</td>\n",
       "      <td>44.0</td>\n",
       "      <td>8108</td>\n",
       "      <td>Universitaria completa.</td>\n",
       "      <td>30-45</td>\n",
       "      <td>True</td>\n",
       "    </tr>\n",
       "    <tr>\n",
       "      <th>11763</th>\n",
       "      <td>f15b078789fc8dd20a7d7648797d6e45</td>\n",
       "      <td>25-01-2020</td>\n",
       "      <td>45.0</td>\n",
       "      <td>8108</td>\n",
       "      <td>Universitaria completa.</td>\n",
       "      <td>45-60</td>\n",
       "      <td>True</td>\n",
       "    </tr>\n",
       "    <tr>\n",
       "      <th>12605</th>\n",
       "      <td>f19898f05bc58aa7dc9e8240ebe094a2</td>\n",
       "      <td>26-12-2019</td>\n",
       "      <td>22.0</td>\n",
       "      <td>8108</td>\n",
       "      <td>Media completa. Técnica incompleta.</td>\n",
       "      <td>15-30</td>\n",
       "      <td>True</td>\n",
       "    </tr>\n",
       "  </tbody>\n",
       "</table>\n",
       "</div>"
      ],
      "text/plain": [
       "                                     id        date   age  comuna_id  \\\n",
       "13212  b8a7bc5d4f27f4f099ad3c232ac3f6ba  29-11-2019  44.0       8108   \n",
       "11763  f15b078789fc8dd20a7d7648797d6e45  25-01-2020  45.0       8108   \n",
       "12605  f19898f05bc58aa7dc9e8240ebe094a2  26-12-2019  22.0       8108   \n",
       "\n",
       "                                     level age_range  online  \n",
       "13212              Universitaria completa.     30-45    True  \n",
       "11763              Universitaria completa.     45-60    True  \n",
       "12605  Media completa. Técnica incompleta.     15-30    True  "
      ]
     },
     "execution_count": 69,
     "metadata": {},
     "output_type": "execute_result"
    }
   ],
   "source": [
    "comuna_frame = individuales[individuales['comuna_id'].isin(closest_id)]\n",
    "comuna_frame.sample(3)"
   ]
  },
  {
   "cell_type": "markdown",
   "id": "4c1fc529",
   "metadata": {},
   "source": [
    "### Emociones mas frecuentes en la comuna y su vecindad \n",
    "\n",
    "Primero debemos abrir el `.csv` asociado a las emociones"
   ]
  },
  {
   "cell_type": "code",
   "execution_count": 70,
   "id": "25cc98d4",
   "metadata": {},
   "outputs": [],
   "source": [
    "emociones = pd.read_csv('./data/emotions.csv', low_memory=False)"
   ]
  },
  {
   "cell_type": "code",
   "execution_count": 71,
   "id": "bc626ba1",
   "metadata": {},
   "outputs": [
    {
     "data": {
      "text/html": [
       "<div>\n",
       "<style scoped>\n",
       "    .dataframe tbody tr th:only-of-type {\n",
       "        vertical-align: middle;\n",
       "    }\n",
       "\n",
       "    .dataframe tbody tr th {\n",
       "        vertical-align: top;\n",
       "    }\n",
       "\n",
       "    .dataframe thead th {\n",
       "        text-align: right;\n",
       "    }\n",
       "</style>\n",
       "<table border=\"1\" class=\"dataframe\">\n",
       "  <thead>\n",
       "    <tr style=\"text-align: right;\">\n",
       "      <th></th>\n",
       "      <th>id</th>\n",
       "      <th>diag_id</th>\n",
       "      <th>ind_id</th>\n",
       "      <th>name</th>\n",
       "      <th>name_tokens</th>\n",
       "      <th>macro</th>\n",
       "      <th>exp</th>\n",
       "      <th>exp_tokens</th>\n",
       "      <th>is_online</th>\n",
       "    </tr>\n",
       "  </thead>\n",
       "  <tbody>\n",
       "    <tr>\n",
       "      <th>67736</th>\n",
       "      <td>67736</td>\n",
       "      <td>NaN</td>\n",
       "      <td>3910780</td>\n",
       "      <td>preocupacion</td>\n",
       "      <td>['preocupacion']</td>\n",
       "      <td>Miedo</td>\n",
       "      <td>NaN</td>\n",
       "      <td>NaN</td>\n",
       "      <td>False</td>\n",
       "    </tr>\n",
       "  </tbody>\n",
       "</table>\n",
       "</div>"
      ],
      "text/plain": [
       "          id diag_id   ind_id          name       name_tokens  macro  exp  \\\n",
       "67736  67736     NaN  3910780  preocupacion  ['preocupacion']  Miedo  NaN   \n",
       "\n",
       "      exp_tokens  is_online  \n",
       "67736        NaN      False  "
      ]
     },
     "execution_count": 71,
     "metadata": {},
     "output_type": "execute_result"
    }
   ],
   "source": [
    "emociones.sample(1)"
   ]
  },
  {
   "cell_type": "markdown",
   "id": "2256a68a",
   "metadata": {},
   "source": [
    "Utilizaremos la columna `macro`, la cual corresponde a la categorizacion hecha en la etapa de Sistematizacion"
   ]
  },
  {
   "cell_type": "code",
   "execution_count": 72,
   "id": "82478d99",
   "metadata": {},
   "outputs": [],
   "source": [
    "individuos_comuna = comuna_frame.groupby('comuna_id')"
   ]
  },
  {
   "cell_type": "code",
   "execution_count": 73,
   "id": "e43f78ce",
   "metadata": {},
   "outputs": [],
   "source": [
    "nombre_comunas = []\n",
    "valores = []\n",
    "for i, frame in individuos_comuna:\n",
    "    subframe = emociones[emociones['ind_id'].isin(frame['id'])]['macro']\n",
    "    moda = subframe.mode().values[0]\n",
    "    nombre_comuna = comunas[comunas['id'] == frame['comuna_id'].values[0]]['name'].values[0]\n",
    "    nombre_comunas.append(nombre_comuna)\n",
    "    valores.append(moda)\n",
    "    \n",
    "df_res = pd.DataFrame()\n",
    "df_res['comuna'] = nombre_comunas\n",
    "df_res['moda'] = valores"
   ]
  },
  {
   "cell_type": "code",
   "execution_count": 74,
   "id": "be12d116",
   "metadata": {},
   "outputs": [
    {
     "data": {
      "text/html": [
       "<div>\n",
       "<style scoped>\n",
       "    .dataframe tbody tr th:only-of-type {\n",
       "        vertical-align: middle;\n",
       "    }\n",
       "\n",
       "    .dataframe tbody tr th {\n",
       "        vertical-align: top;\n",
       "    }\n",
       "\n",
       "    .dataframe thead th {\n",
       "        text-align: right;\n",
       "    }\n",
       "</style>\n",
       "<table border=\"1\" class=\"dataframe\">\n",
       "  <thead>\n",
       "    <tr style=\"text-align: right;\">\n",
       "      <th></th>\n",
       "      <th>comuna</th>\n",
       "      <th>moda</th>\n",
       "    </tr>\n",
       "  </thead>\n",
       "  <tbody>\n",
       "    <tr>\n",
       "      <th>0</th>\n",
       "      <td>Coronel</td>\n",
       "      <td>Miedo</td>\n",
       "    </tr>\n",
       "    <tr>\n",
       "      <th>1</th>\n",
       "      <td>Lota</td>\n",
       "      <td>Repulsión</td>\n",
       "    </tr>\n",
       "    <tr>\n",
       "      <th>2</th>\n",
       "      <td>San Pedro De La Paz</td>\n",
       "      <td>Miedo</td>\n",
       "    </tr>\n",
       "    <tr>\n",
       "      <th>3</th>\n",
       "      <td>Arauco</td>\n",
       "      <td>Alegría</td>\n",
       "    </tr>\n",
       "  </tbody>\n",
       "</table>\n",
       "</div>"
      ],
      "text/plain": [
       "                comuna       moda\n",
       "0              Coronel      Miedo\n",
       "1                 Lota  Repulsión\n",
       "2  San Pedro De La Paz      Miedo\n",
       "3               Arauco    Alegría"
      ]
     },
     "execution_count": 74,
     "metadata": {},
     "output_type": "execute_result"
    }
   ],
   "source": [
    "df_res"
   ]
  },
  {
   "cell_type": "markdown",
   "id": "39e977b2",
   "metadata": {},
   "source": [
    "# Resumen"
   ]
  },
  {
   "cell_type": "markdown",
   "id": "ec1b2a66",
   "metadata": {},
   "source": [
    "Ahora juntaremos todo en una funcion que, **dada una comuna y un conjunto de encuestas**, nos entregue `emocion`, `contribucion`, y `necesidades`. Para esto **es necesario tener todos los archivos de la base de datos** y el archivo `distancias_comunas.csv` que generamos al principio del tutorial.\n",
    "\n",
    "En esta funcion no utilizaremos la `moda` ya que nos quita informacion. En cambio, utilizaremos los `num_top` mas frecuentes de cada categoria. Por defecto `num_top = 1` lo cual es equivalente a la moda."
   ]
  },
  {
   "cell_type": "code",
   "execution_count": 75,
   "id": "e7b0eeb4",
   "metadata": {},
   "outputs": [],
   "source": [
    "def get_top(column_macro):\n",
    "    return column_macro.value_counts(normalize=True).sort_values(ascending=False)"
   ]
  },
  {
   "cell_type": "code",
   "execution_count": 76,
   "id": "7a0b7418",
   "metadata": {},
   "outputs": [],
   "source": [
    "def get_territorial(comuna_id, individuales_frame=None, dialogos_frame=None, num_vecinos=3, num_top=1, bd_dir='./data'):\n",
    "    '''\n",
    "    Esta funcion recibe el id de una comuna y devuelve las emociones necesidades y contribuciones \n",
    "    mas frecuentes para ella y sus K vecinos mas cercanos.\n",
    "    '''\n",
    "    comunas  = pd.read_csv(os.path.join(bd_dir, 'comunas.csv'))\n",
    "    # Saltamos las tres primeras filas porque estan vacias\n",
    "    dist_enc = pd.read_csv(os.path.join(bd_dir, 'distancias_comunas.csv'))\n",
    "    \n",
    "    closest_nombres, closest_id, closest_dist = get_neighborhood(comuna_id, dist_enc, K=num_vecinos)\n",
    "    \n",
    "    if individuales_frame is not None:\n",
    "        comuna_frame = individuales_frame[individuales_frame['comuna_id'].isin(closest_id)]\n",
    "        columna_id = 'ind_id'\n",
    "        \n",
    "    if dialogos_frame is not None:\n",
    "        comuna_frame = dialogos_frame[dialogos_frame['comuna_id'].isin(closest_id)]\n",
    "        columna_id = 'diag_id'\n",
    "    \n",
    "    emociones              = pd.read_csv(os.path.join(bd_dir, 'emotions.csv'), low_memory=False)\n",
    "    contribuciones         = pd.read_csv(os.path.join(bd_dir, 'contributions.csv'), low_memory=False)\n",
    "    necesidades_pais       = pd.read_csv(os.path.join(bd_dir, 'country_needs.csv'), low_memory=False)\n",
    "    necesidades_personales = pd.read_csv(os.path.join(bd_dir, 'personal_needs.csv'), low_memory=False)\n",
    "    # Arreglar los id\n",
    "    emociones['diag_id']                = to_unicode(emociones['diag_id'])\n",
    "    contribuciones['diag_id']           = to_unicode(contribuciones['diag_id'])\n",
    "    necesidades_pais['diag_id']         = to_unicode(necesidades_pais['diag_id'])\n",
    "    necesidades_personales['diag_id']   = to_unicode(necesidades_personales['diag_id'])\n",
    "    \n",
    "    group_comuna = comuna_frame.groupby('comuna_id')\n",
    "    \n",
    "    nombre_comunas = []\n",
    "    valores_emo = []\n",
    "    valores_con = []\n",
    "    valores_cne = []\n",
    "    valores_pne = []\n",
    "    valores_dis = []\n",
    "    \n",
    "    test = []\n",
    "    for i, frame in group_comuna:\n",
    "\n",
    "        subframe_emo = emociones[emociones[columna_id].isin(frame['id'])]['macro']\n",
    "        subframe_con = contribuciones[contribuciones[columna_id].isin(frame['id'])]['macro']\n",
    "        subframe_cne = necesidades_pais[necesidades_pais[columna_id].isin(frame['id'])]['macro']\n",
    "        subframe_pne = necesidades_personales[necesidades_personales[columna_id].isin(frame['id'])]['macro']\n",
    "              \n",
    "        top_emo = get_top(subframe_emo)\n",
    "        top_con = get_top(subframe_con)\n",
    "        top_cne = get_top(subframe_cne)\n",
    "        top_pne = get_top(subframe_pne)\n",
    "        \n",
    "        valores_emo.append(top_emo.index.values[0:num_top])\n",
    "        valores_con.append(top_con.index.values[0:num_top])        \n",
    "        valores_cne.append(top_cne.index.values[0:num_top])\n",
    "        valores_pne.append(top_pne.index.values[0:num_top])\n",
    "\n",
    "        nombre_comuna = comunas[comunas['id'] == frame['comuna_id'].values[0]]['name'].values[0]\n",
    "        nombre_comunas.append(nombre_comuna)\n",
    "\n",
    "        # distancia\n",
    "        j = closest_id.index(frame['comuna_id'].values[0])\n",
    "        subframe_dis = closest_dist[j]\n",
    "        valores_dis.append(subframe_dis)\n",
    "                \n",
    "        \n",
    "    df_res = pd.DataFrame()\n",
    "    df_res['comuna'] = nombre_comunas\n",
    "    df_res['emocion'] = valores_emo\n",
    "    df_res['contribucion'] = valores_con\n",
    "    df_res['necesidad pais'] = valores_cne\n",
    "    df_res['necesidad personal/familiar'] = valores_pne\n",
    "    df_res['distancia (km)'] = valores_dis\n",
    "    return df_res.sort_values('distancia (km)')"
   ]
  },
  {
   "cell_type": "code",
   "execution_count": null,
   "id": "961b0a20",
   "metadata": {},
   "outputs": [],
   "source": []
  },
  {
   "cell_type": "code",
   "execution_count": 77,
   "id": "e39ff916",
   "metadata": {},
   "outputs": [],
   "source": [
    "territorial_dialogos = get_territorial(singular_id, dialogos_frame=dialogos, num_vecinos=3, num_top=2)"
   ]
  },
  {
   "cell_type": "code",
   "execution_count": 78,
   "id": "a154f045",
   "metadata": {},
   "outputs": [
    {
     "data": {
      "text/html": [
       "<div>\n",
       "<style scoped>\n",
       "    .dataframe tbody tr th:only-of-type {\n",
       "        vertical-align: middle;\n",
       "    }\n",
       "\n",
       "    .dataframe tbody tr th {\n",
       "        vertical-align: top;\n",
       "    }\n",
       "\n",
       "    .dataframe thead th {\n",
       "        text-align: right;\n",
       "    }\n",
       "</style>\n",
       "<table border=\"1\" class=\"dataframe\">\n",
       "  <thead>\n",
       "    <tr style=\"text-align: right;\">\n",
       "      <th></th>\n",
       "      <th>comuna</th>\n",
       "      <th>emocion</th>\n",
       "      <th>contribucion</th>\n",
       "      <th>necesidad pais</th>\n",
       "      <th>necesidad personal/familiar</th>\n",
       "      <th>distancia (km)</th>\n",
       "    </tr>\n",
       "  </thead>\n",
       "  <tbody>\n",
       "    <tr>\n",
       "      <th>1</th>\n",
       "      <td>Lota</td>\n",
       "      <td>[Miedo, Tristeza]</td>\n",
       "      <td>[Reciprocidad-Redes, Participacion]</td>\n",
       "      <td>[NR, pensiones]</td>\n",
       "      <td>[salud, familia]</td>\n",
       "      <td>0.000000</td>\n",
       "    </tr>\n",
       "    <tr>\n",
       "      <th>0</th>\n",
       "      <td>Coronel</td>\n",
       "      <td>[Miedo, Enojo]</td>\n",
       "      <td>[Reciprocidad-Redes, Participacion]</td>\n",
       "      <td>[NR, pensiones]</td>\n",
       "      <td>[educacion, escacez hidrica]</td>\n",
       "      <td>8.136202</td>\n",
       "    </tr>\n",
       "    <tr>\n",
       "      <th>2</th>\n",
       "      <td>San Pedro De La Paz</td>\n",
       "      <td>[Miedo, Tristeza]</td>\n",
       "      <td>[Participacion, Reciprocidad-Redes]</td>\n",
       "      <td>[NR, pensiones]</td>\n",
       "      <td>[vivienda, familia]</td>\n",
       "      <td>30.441332</td>\n",
       "    </tr>\n",
       "    <tr>\n",
       "      <th>3</th>\n",
       "      <td>Arauco</td>\n",
       "      <td>[Miedo, Tristeza]</td>\n",
       "      <td>[Reciprocidad-Redes, Participacion]</td>\n",
       "      <td>[NR, pensiones]</td>\n",
       "      <td>[escacez hidrica, vivienda]</td>\n",
       "      <td>33.614461</td>\n",
       "    </tr>\n",
       "  </tbody>\n",
       "</table>\n",
       "</div>"
      ],
      "text/plain": [
       "                comuna            emocion  \\\n",
       "1                 Lota  [Miedo, Tristeza]   \n",
       "0              Coronel     [Miedo, Enojo]   \n",
       "2  San Pedro De La Paz  [Miedo, Tristeza]   \n",
       "3               Arauco  [Miedo, Tristeza]   \n",
       "\n",
       "                          contribucion   necesidad pais  \\\n",
       "1  [Reciprocidad-Redes, Participacion]  [NR, pensiones]   \n",
       "0  [Reciprocidad-Redes, Participacion]  [NR, pensiones]   \n",
       "2  [Participacion, Reciprocidad-Redes]  [NR, pensiones]   \n",
       "3  [Reciprocidad-Redes, Participacion]  [NR, pensiones]   \n",
       "\n",
       "    necesidad personal/familiar  distancia (km)  \n",
       "1              [salud, familia]        0.000000  \n",
       "0  [educacion, escacez hidrica]        8.136202  \n",
       "2           [vivienda, familia]       30.441332  \n",
       "3   [escacez hidrica, vivienda]       33.614461  "
      ]
     },
     "execution_count": 78,
     "metadata": {},
     "output_type": "execute_result"
    }
   ],
   "source": [
    "territorial_dialogos"
   ]
  },
  {
   "cell_type": "code",
   "execution_count": 79,
   "id": "bd71b474",
   "metadata": {},
   "outputs": [],
   "source": [
    "territorial_individuos = get_territorial(singular_id, individuales_frame=individuales, num_vecinos=5, num_top=3)"
   ]
  },
  {
   "cell_type": "code",
   "execution_count": 80,
   "id": "6cd5eea9",
   "metadata": {},
   "outputs": [
    {
     "data": {
      "text/html": [
       "<div>\n",
       "<style scoped>\n",
       "    .dataframe tbody tr th:only-of-type {\n",
       "        vertical-align: middle;\n",
       "    }\n",
       "\n",
       "    .dataframe tbody tr th {\n",
       "        vertical-align: top;\n",
       "    }\n",
       "\n",
       "    .dataframe thead th {\n",
       "        text-align: right;\n",
       "    }\n",
       "</style>\n",
       "<table border=\"1\" class=\"dataframe\">\n",
       "  <thead>\n",
       "    <tr style=\"text-align: right;\">\n",
       "      <th></th>\n",
       "      <th>comuna</th>\n",
       "      <th>emocion</th>\n",
       "      <th>contribucion</th>\n",
       "      <th>necesidad pais</th>\n",
       "      <th>necesidad personal/familiar</th>\n",
       "      <th>distancia (km)</th>\n",
       "    </tr>\n",
       "  </thead>\n",
       "  <tbody>\n",
       "    <tr>\n",
       "      <th>3</th>\n",
       "      <td>Lota</td>\n",
       "      <td>[Repulsión]</td>\n",
       "      <td>[Reciprocidad-Redes]</td>\n",
       "      <td>[vivienda y subsistencia]</td>\n",
       "      <td>[familia]</td>\n",
       "      <td>0.000000</td>\n",
       "    </tr>\n",
       "    <tr>\n",
       "      <th>1</th>\n",
       "      <td>Coronel</td>\n",
       "      <td>[Miedo, Enojo, Alegría]</td>\n",
       "      <td>[Participacion, Reciprocidad-Redes, Confianza ...</td>\n",
       "      <td>[pensiones, NR, vivienda y subsistencia]</td>\n",
       "      <td>[sueldos y pensiones, familia, educacion]</td>\n",
       "      <td>8.136202</td>\n",
       "    </tr>\n",
       "    <tr>\n",
       "      <th>4</th>\n",
       "      <td>San Pedro De La Paz</td>\n",
       "      <td>[Miedo, Enojo, Tristeza]</td>\n",
       "      <td>[Reciprocidad-Redes, Trabajo, Participacion]</td>\n",
       "      <td>[NR, pensiones, educacion]</td>\n",
       "      <td>[familia, NR, salud]</td>\n",
       "      <td>30.441332</td>\n",
       "    </tr>\n",
       "    <tr>\n",
       "      <th>5</th>\n",
       "      <td>Arauco</td>\n",
       "      <td>[Tristeza, Alegría]</td>\n",
       "      <td>[Reciprocidad-Redes]</td>\n",
       "      <td>[cambios politicos, educacion]</td>\n",
       "      <td>[vivienda]</td>\n",
       "      <td>33.614461</td>\n",
       "    </tr>\n",
       "    <tr>\n",
       "      <th>0</th>\n",
       "      <td>Concepción</td>\n",
       "      <td>[Miedo, Enojo, Alegría]</td>\n",
       "      <td>[Reciprocidad-Redes, Participacion, Trabajo]</td>\n",
       "      <td>[NR, pensiones, educacion]</td>\n",
       "      <td>[familia, NR, salud]</td>\n",
       "      <td>36.824732</td>\n",
       "    </tr>\n",
       "    <tr>\n",
       "      <th>2</th>\n",
       "      <td>Chiguayante</td>\n",
       "      <td>[Miedo, Enojo, Alegría]</td>\n",
       "      <td>[Reciprocidad-Redes, Confianza en las instituc...</td>\n",
       "      <td>[NR, educacion, pensiones]</td>\n",
       "      <td>[familia, sueldos y pensiones]</td>\n",
       "      <td>45.132142</td>\n",
       "    </tr>\n",
       "  </tbody>\n",
       "</table>\n",
       "</div>"
      ],
      "text/plain": [
       "                comuna                   emocion  \\\n",
       "3                 Lota               [Repulsión]   \n",
       "1              Coronel   [Miedo, Enojo, Alegría]   \n",
       "4  San Pedro De La Paz  [Miedo, Enojo, Tristeza]   \n",
       "5               Arauco       [Tristeza, Alegría]   \n",
       "0           Concepción   [Miedo, Enojo, Alegría]   \n",
       "2          Chiguayante   [Miedo, Enojo, Alegría]   \n",
       "\n",
       "                                        contribucion  \\\n",
       "3                               [Reciprocidad-Redes]   \n",
       "1  [Participacion, Reciprocidad-Redes, Confianza ...   \n",
       "4       [Reciprocidad-Redes, Trabajo, Participacion]   \n",
       "5                               [Reciprocidad-Redes]   \n",
       "0       [Reciprocidad-Redes, Participacion, Trabajo]   \n",
       "2  [Reciprocidad-Redes, Confianza en las instituc...   \n",
       "\n",
       "                             necesidad pais  \\\n",
       "3                 [vivienda y subsistencia]   \n",
       "1  [pensiones, NR, vivienda y subsistencia]   \n",
       "4                [NR, pensiones, educacion]   \n",
       "5            [cambios politicos, educacion]   \n",
       "0                [NR, pensiones, educacion]   \n",
       "2                [NR, educacion, pensiones]   \n",
       "\n",
       "                 necesidad personal/familiar  distancia (km)  \n",
       "3                                  [familia]        0.000000  \n",
       "1  [sueldos y pensiones, familia, educacion]        8.136202  \n",
       "4                       [familia, NR, salud]       30.441332  \n",
       "5                                 [vivienda]       33.614461  \n",
       "0                       [familia, NR, salud]       36.824732  \n",
       "2             [familia, sueldos y pensiones]       45.132142  "
      ]
     },
     "execution_count": 80,
     "metadata": {},
     "output_type": "execute_result"
    }
   ],
   "source": [
    "territorial_individuos"
   ]
  },
  {
   "cell_type": "markdown",
   "id": "6fd7c363",
   "metadata": {},
   "source": [
    "# Visualizando por Region"
   ]
  },
  {
   "cell_type": "code",
   "execution_count": 81,
   "id": "31b07083",
   "metadata": {},
   "outputs": [],
   "source": [
    "def get_territorial_regiones(individuales_frame=None, dialogos_frame=None, num_top=2, bd_dir='./data'):\n",
    "    \n",
    "    emociones              = pd.read_csv(os.path.join(bd_dir, 'emotions.csv'), low_memory=False)\n",
    "    contribuciones         = pd.read_csv(os.path.join(bd_dir, 'contributions.csv'), low_memory=False)\n",
    "    necesidades_pais       = pd.read_csv(os.path.join(bd_dir, 'country_needs.csv'), low_memory=False)\n",
    "    necesidades_personales = pd.read_csv(os.path.join(bd_dir, 'personal_needs.csv'), low_memory=False)\n",
    "    # Arreglar los id\n",
    "    emociones['diag_id']                = to_unicode(emociones['diag_id'])\n",
    "    contribuciones['diag_id']           = to_unicode(contribuciones['diag_id'])\n",
    "    necesidades_pais['diag_id']         = to_unicode(necesidades_pais['diag_id'])\n",
    "    necesidades_personales['diag_id']   = to_unicode(necesidades_personales['diag_id'])\n",
    "\n",
    "    regiones = pd.read_csv('./data/regions.csv')\n",
    "    \n",
    "    # Por cada region extraemos las comunas\n",
    "    region_nombres = []\n",
    "    valores_emo, scores_emo = [], []\n",
    "    valores_con, scores_con = [], []\n",
    "    valores_cne, scores_cne = [], []\n",
    "    valores_pne, scores_pne = [], []\n",
    "    \n",
    "    for i, reg in regiones.iterrows():\n",
    "        nombre_region = reg['name']\n",
    "        comunas_region = comunas[comunas['region_iso'] == reg['iso']]\n",
    "\n",
    "        if individuales_frame is not None:\n",
    "            comuna_frame = individuales_frame[individuales_frame['comuna_id'].isin(comunas_region['id'])]\n",
    "            columna_id = 'ind_id'\n",
    "\n",
    "        if dialogos_frame is not None:\n",
    "            comuna_frame = dialogos_frame[dialogos_frame['comuna_id'].isin(comunas_region['id'])]\n",
    "            columna_id = 'diag_id'\n",
    "        \n",
    "        subframe_emo = emociones[emociones[columna_id].isin(comuna_frame['id'])]['macro']\n",
    "        subframe_con = contribuciones[contribuciones[columna_id].isin(comuna_frame['id'])]['macro']\n",
    "        subframe_cne = necesidades_pais[necesidades_pais[columna_id].isin(comuna_frame['id'])]['macro']\n",
    "        subframe_pne = necesidades_personales[necesidades_personales[columna_id].isin(comuna_frame['id'])]['macro']\n",
    "\n",
    "        region_nombres.append(nombre_region)\n",
    "        \n",
    "        top_emo = get_top(subframe_emo)\n",
    "        top_con = get_top(subframe_con)\n",
    "        top_cne = get_top(subframe_cne)\n",
    "        top_pne = get_top(subframe_pne)\n",
    "        \n",
    "        valores_emo.append(top_emo.index.values[0:num_top])\n",
    "        valores_con.append(top_con.index.values[0:num_top])\n",
    "#         valores_cne.append(top_cne.index.values[0:num_top])\n",
    "#         valores_pne.append(top_pne.index.values[0:num_top])\n",
    "\n",
    "        scores_emo.append(top_emo.values[0:num_top])\n",
    "        scores_con.append(top_con.values[0:num_top])\n",
    "#         scores_cne.append(top_cne.values[0:num_top])\n",
    "#         scores_pne.append(top_pne.values[0:num_top])\n",
    "\n",
    "\n",
    "    df_res = pd.DataFrame()\n",
    "    df_res['region'] = region_nombres\n",
    "    df_res['emocion'] = valores_emo\n",
    "    df_res['emo_scores'] = scores_emo\n",
    "    df_res['contribucion'] = valores_con\n",
    "    df_res['con_scores'] = scores_con\n",
    "#     df_res['necesidad pais'] = valores_cne\n",
    "#     df_res['necesidad personal/familiar'] = valores_pne\n",
    "\n",
    "    return df_res"
   ]
  },
  {
   "cell_type": "code",
   "execution_count": 82,
   "id": "f7c9f1e8",
   "metadata": {},
   "outputs": [
    {
     "data": {
      "text/html": [
       "<div>\n",
       "<style scoped>\n",
       "    .dataframe tbody tr th:only-of-type {\n",
       "        vertical-align: middle;\n",
       "    }\n",
       "\n",
       "    .dataframe tbody tr th {\n",
       "        vertical-align: top;\n",
       "    }\n",
       "\n",
       "    .dataframe thead th {\n",
       "        text-align: right;\n",
       "    }\n",
       "</style>\n",
       "<table border=\"1\" class=\"dataframe\">\n",
       "  <thead>\n",
       "    <tr style=\"text-align: right;\">\n",
       "      <th></th>\n",
       "      <th>region</th>\n",
       "      <th>emocion</th>\n",
       "      <th>emo_scores</th>\n",
       "      <th>contribucion</th>\n",
       "      <th>con_scores</th>\n",
       "    </tr>\n",
       "  </thead>\n",
       "  <tbody>\n",
       "    <tr>\n",
       "      <th>0</th>\n",
       "      <td>Tarapacá</td>\n",
       "      <td>[Miedo, Enojo, Alegría]</td>\n",
       "      <td>[0.30212014134275617, 0.25618374558303886, 0.2...</td>\n",
       "      <td>[Reciprocidad-Redes, Trabajo, Confianza en las...</td>\n",
       "      <td>[0.2916666666666667, 0.17708333333333334, 0.13...</td>\n",
       "    </tr>\n",
       "    <tr>\n",
       "      <th>1</th>\n",
       "      <td>Antofagasta</td>\n",
       "      <td>[Miedo, Alegría, Tristeza]</td>\n",
       "      <td>[0.4326241134751773, 0.2198581560283688, 0.148...</td>\n",
       "      <td>[Reciprocidad-Redes, Participacion, Trabajo]</td>\n",
       "      <td>[0.4146341463414634, 0.14634146341463414, 0.12...</td>\n",
       "    </tr>\n",
       "  </tbody>\n",
       "</table>\n",
       "</div>"
      ],
      "text/plain": [
       "        region                     emocion  \\\n",
       "0     Tarapacá     [Miedo, Enojo, Alegría]   \n",
       "1  Antofagasta  [Miedo, Alegría, Tristeza]   \n",
       "\n",
       "                                          emo_scores  \\\n",
       "0  [0.30212014134275617, 0.25618374558303886, 0.2...   \n",
       "1  [0.4326241134751773, 0.2198581560283688, 0.148...   \n",
       "\n",
       "                                        contribucion  \\\n",
       "0  [Reciprocidad-Redes, Trabajo, Confianza en las...   \n",
       "1       [Reciprocidad-Redes, Participacion, Trabajo]   \n",
       "\n",
       "                                          con_scores  \n",
       "0  [0.2916666666666667, 0.17708333333333334, 0.13...  \n",
       "1  [0.4146341463414634, 0.14634146341463414, 0.12...  "
      ]
     },
     "execution_count": 82,
     "metadata": {},
     "output_type": "execute_result"
    }
   ],
   "source": [
    "regiones_ind = get_territorial_regiones(individuales_frame=individuales, num_top=3)\n",
    "regiones_ind.head(2)"
   ]
  },
  {
   "cell_type": "code",
   "execution_count": 83,
   "id": "0904e8b6",
   "metadata": {},
   "outputs": [
    {
     "data": {
      "text/html": [
       "<div>\n",
       "<style scoped>\n",
       "    .dataframe tbody tr th:only-of-type {\n",
       "        vertical-align: middle;\n",
       "    }\n",
       "\n",
       "    .dataframe tbody tr th {\n",
       "        vertical-align: top;\n",
       "    }\n",
       "\n",
       "    .dataframe thead th {\n",
       "        text-align: right;\n",
       "    }\n",
       "</style>\n",
       "<table border=\"1\" class=\"dataframe\">\n",
       "  <thead>\n",
       "    <tr style=\"text-align: right;\">\n",
       "      <th></th>\n",
       "      <th>region</th>\n",
       "      <th>emocion</th>\n",
       "      <th>emo_scores</th>\n",
       "      <th>contribucion</th>\n",
       "      <th>con_scores</th>\n",
       "    </tr>\n",
       "  </thead>\n",
       "  <tbody>\n",
       "    <tr>\n",
       "      <th>0</th>\n",
       "      <td>Tarapacá</td>\n",
       "      <td>[Miedo, Enojo, Tristeza]</td>\n",
       "      <td>[0.3963254593175853, 0.1889763779527559, 0.181...</td>\n",
       "      <td>[Reciprocidad-Redes, Participacion, Educación ...</td>\n",
       "      <td>[0.2600286532951289, 0.2141833810888252, 0.113...</td>\n",
       "    </tr>\n",
       "    <tr>\n",
       "      <th>1</th>\n",
       "      <td>Antofagasta</td>\n",
       "      <td>[Miedo, Enojo, Tristeza]</td>\n",
       "      <td>[0.4165477888730385, 0.19686162624821682, 0.19...</td>\n",
       "      <td>[Reciprocidad-Redes, Participacion, Educación ...</td>\n",
       "      <td>[0.25222363405336723, 0.20012706480304956, 0.1...</td>\n",
       "    </tr>\n",
       "  </tbody>\n",
       "</table>\n",
       "</div>"
      ],
      "text/plain": [
       "        region                   emocion  \\\n",
       "0     Tarapacá  [Miedo, Enojo, Tristeza]   \n",
       "1  Antofagasta  [Miedo, Enojo, Tristeza]   \n",
       "\n",
       "                                          emo_scores  \\\n",
       "0  [0.3963254593175853, 0.1889763779527559, 0.181...   \n",
       "1  [0.4165477888730385, 0.19686162624821682, 0.19...   \n",
       "\n",
       "                                        contribucion  \\\n",
       "0  [Reciprocidad-Redes, Participacion, Educación ...   \n",
       "1  [Reciprocidad-Redes, Participacion, Educación ...   \n",
       "\n",
       "                                          con_scores  \n",
       "0  [0.2600286532951289, 0.2141833810888252, 0.113...  \n",
       "1  [0.25222363405336723, 0.20012706480304956, 0.1...  "
      ]
     },
     "execution_count": 83,
     "metadata": {},
     "output_type": "execute_result"
    }
   ],
   "source": [
    "regiones_diag = get_territorial_regiones(dialogos_frame=dialogos, num_top=3)\n",
    "regiones_diag.head(2)"
   ]
  },
  {
   "cell_type": "markdown",
   "id": "184239f8",
   "metadata": {},
   "source": [
    "`emo_scores` es la frecuencia normalizada de la categoria "
   ]
  },
  {
   "cell_type": "markdown",
   "id": "ac466ec4",
   "metadata": {},
   "source": [
    "# Visualizando "
   ]
  },
  {
   "cell_type": "code",
   "execution_count": 84,
   "id": "eccfcba4",
   "metadata": {},
   "outputs": [
    {
     "data": {
      "image/png": "[encoded data removed]",
      "text/plain": [
       "<Figure size 720x720 with 17 Axes>"
      ]
     },
     "metadata": {
      "needs_background": "light"
     },
     "output_type": "display_data"
    }
   ],
   "source": [
    "import math\n",
    "n_cols = 5\n",
    "n_rows = math.ceil(regiones_diag.shape[0]/n_cols)\n",
    "\n",
    "fig, axes = plt.subplots(n_rows, n_cols, figsize=(10,10), sharey=True)\n",
    "\n",
    "for i, frame in regiones_diag.iterrows():\n",
    "    row = i//n_cols\n",
    "    col = i%n_cols\n",
    "    \n",
    "    emo = list(frame['emocion'])\n",
    "    scores = list(frame['emo_scores'])\n",
    "    x = range(len(emo))\n",
    "    \n",
    "    axes[row][col].bar(x, scores)\n",
    "    axes[row][col].set_xticks(x)\n",
    "    axes[row][col].set_xticklabels(emo, rotation=90)\n",
    "    axes[row][col].set_title(frame['region'])\n",
    "\n",
    "fig.tight_layout()\n",
    "\n",
    "for k in range(i+1, n_cols*n_rows):\n",
    "    row = k//n_cols\n",
    "    col = k%n_cols\n",
    "    fig.delaxes(axes[row][col])"
   ]
  },
  {
   "cell_type": "code",
   "execution_count": null,
   "id": "267599e8",
   "metadata": {},
   "outputs": [],
   "source": []
  },
  {
   "cell_type": "code",
   "execution_count": null,
   "id": "daaff47c",
   "metadata": {},
   "outputs": [],
   "source": []
  },
  {
   "cell_type": "code",
   "execution_count": null,
   "id": "32384bb4",
   "metadata": {},
   "outputs": [],
   "source": []
  }
 ],
 "metadata": {
  "kernelspec": {
   "display_name": "Python 3",
   "language": "python",
   "name": "python3"
  },
  "language_info": {
   "codemirror_mode": {
    "name": "ipython",
    "version": 3
   },
   "file_extension": ".py",
   "mimetype": "text/x-python",
   "name": "python",
   "nbconvert_exporter": "python",
   "pygments_lexer": "ipython3",
   "version": "3.8.8"
  }
 },
 "nbformat": 4,
 "nbformat_minor": 5
}
